{
  "nbformat": 4,
  "nbformat_minor": 0,
  "metadata": {
    "colab": {
      "name": "FKPD-1.99_script.ipynb",
      "provenance": []
    },
    "kernelspec": {
      "name": "python3",
      "display_name": "Python 3"
    },
    "accelerator": "GPU"
  },
  "cells": [
    {
      "cell_type": "code",
      "metadata": {
        "id": "GHuBaIGRzfYU",
        "colab_type": "code",
        "colab": {}
      },
      "source": [
        "import numpy as np\n",
        "import pandas as pd\n",
        "import matplotlib.pyplot as plt\n",
        "\n",
        "from keras.layers.advanced_activations import LeakyReLU\n",
        "from keras.models import Sequential\n",
        "from keras.layers import Dropout, Convolution2D,MaxPool2D, ZeroPadding2D,BatchNormalization,Flatten,Dense,InputLayer\n",
        "from tensorflow.keras.callbacks import EarlyStopping\n",
        "\n",
        "from sklearn.model_selection import train_test_split "
      ],
      "execution_count": 1,
      "outputs": []
    },
    {
      "cell_type": "code",
      "metadata": {
        "id": "2j9PibQozjSh",
        "colab_type": "code",
        "colab": {}
      },
      "source": [
        "from google.colab import drive\n",
        "drive.mount('/content/gdrive')"
      ],
      "execution_count": 1,
      "outputs": []
    },
    {
      "cell_type": "code",
      "metadata": {
        "id": "0iLxGBAxy8_V",
        "colab_type": "code",
        "colab": {}
      },
      "source": [
        "nvidia-smi "
      ],
      "execution_count": null,
      "outputs": []
    },
    {
      "cell_type": "code",
      "metadata": {
        "id": "OwLRMpq9znYz",
        "colab_type": "code",
        "colab": {}
      },
      "source": [
        "path = '/content/gdrive/My Drive/fkpd/'\n",
        "traindf = pd.read_csv(path+'training.csv')\n",
        "testdf =  pd.read_csv(path+'test.csv')"
      ],
      "execution_count": 4,
      "outputs": []
    },
    {
      "cell_type": "code",
      "metadata": {
        "id": "L1X5yaIzzvEI",
        "colab_type": "code",
        "colab": {
          "base_uri": "https://localhost:8080/",
          "height": 34
        },
        "outputId": "9af772cc-2b29-4476-9d8c-2f86ab6f4b03"
      },
      "source": [
        "traindf.shape,testdf.shape"
      ],
      "execution_count": 5,
      "outputs": [
        {
          "output_type": "execute_result",
          "data": {
            "text/plain": [
              "((7049, 31), (1783, 2))"
            ]
          },
          "metadata": {
            "tags": []
          },
          "execution_count": 5
        }
      ]
    },
    {
      "cell_type": "code",
      "metadata": {
        "id": "1PTT_q0Zz-nY",
        "colab_type": "code",
        "colab": {
          "base_uri": "https://localhost:8080/",
          "height": 554
        },
        "outputId": "213a3999-583a-4a16-f7ea-2d3f4b6e213e"
      },
      "source": [
        "traindf.isnull().sum()"
      ],
      "execution_count": 6,
      "outputs": [
        {
          "output_type": "execute_result",
          "data": {
            "text/plain": [
              "left_eye_center_x              10\n",
              "left_eye_center_y              10\n",
              "right_eye_center_x             13\n",
              "right_eye_center_y             13\n",
              "left_eye_inner_corner_x      4778\n",
              "left_eye_inner_corner_y      4778\n",
              "left_eye_outer_corner_x      4782\n",
              "left_eye_outer_corner_y      4782\n",
              "right_eye_inner_corner_x     4781\n",
              "right_eye_inner_corner_y     4781\n",
              "right_eye_outer_corner_x     4781\n",
              "right_eye_outer_corner_y     4781\n",
              "left_eyebrow_inner_end_x     4779\n",
              "left_eyebrow_inner_end_y     4779\n",
              "left_eyebrow_outer_end_x     4824\n",
              "left_eyebrow_outer_end_y     4824\n",
              "right_eyebrow_inner_end_x    4779\n",
              "right_eyebrow_inner_end_y    4779\n",
              "right_eyebrow_outer_end_x    4813\n",
              "right_eyebrow_outer_end_y    4813\n",
              "nose_tip_x                      0\n",
              "nose_tip_y                      0\n",
              "mouth_left_corner_x          4780\n",
              "mouth_left_corner_y          4780\n",
              "mouth_right_corner_x         4779\n",
              "mouth_right_corner_y         4779\n",
              "mouth_center_top_lip_x       4774\n",
              "mouth_center_top_lip_y       4774\n",
              "mouth_center_bottom_lip_x      33\n",
              "mouth_center_bottom_lip_y      33\n",
              "Image                           0\n",
              "dtype: int64"
            ]
          },
          "metadata": {
            "tags": []
          },
          "execution_count": 6
        }
      ]
    },
    {
      "cell_type": "code",
      "metadata": {
        "id": "69KsWK7f0Air",
        "colab_type": "code",
        "colab": {}
      },
      "source": [
        "def load_images(image_data):\n",
        "  images = []\n",
        "  for idx, sample in image_data.iterrows():\n",
        "      image = np.array(sample['Image'].split(' '), dtype=int)\n",
        "      image = np.reshape(image, (96,96,1))\n",
        "      images.append(image)\n",
        "  images = np.array(images)/255.\n",
        "  return images\n",
        "\n",
        "def load_keypoints(keypoint_data):\n",
        "  keypoint_data = keypoint_data.drop('Image',axis = 1)\n",
        "  keypoint_features = []\n",
        "  for idx, sample_keypoints in keypoint_data.iterrows():\n",
        "    keypoint_features.append(sample_keypoints)\n",
        "  keypoint_features = np.array(keypoint_features, dtype = 'float')\n",
        "  return keypoint_features\n",
        "  \n",
        "def plot_sample(image, keypoint, axis, title):\n",
        "  image = image.reshape(96,96)\n",
        "  axis.imshow(image, cmap='gray')\n",
        "  axis.scatter(keypoint[0::2], keypoint[1::2], marker='x', s=20)\n",
        "  plt.title(title)"
      ],
      "execution_count": 7,
      "outputs": []
    },
    {
      "cell_type": "code",
      "metadata": {
        "id": "bTomoYn10BiY",
        "colab_type": "code",
        "colab": {}
      },
      "source": [
        "train_img_nonull = load_images(traindf[traindf.isnull().sum(axis=1) == 0])\n",
        "train_kp_nonull = load_keypoints(traindf[traindf.isnull().sum(axis=1) == 0])\n",
        "train_img_null = load_images(traindf[traindf.isnull().sum(axis=1) != 0])\n",
        "train_kp_null = load_keypoints(traindf[traindf.isnull().sum(axis=1) != 0])\n",
        "test_img = load_images(testdf)"
      ],
      "execution_count": 8,
      "outputs": []
    },
    {
      "cell_type": "code",
      "metadata": {
        "id": "xMImWhTh0EVz",
        "colab_type": "code",
        "colab": {
          "base_uri": "https://localhost:8080/",
          "height": 101
        },
        "outputId": "6133c2c6-74bb-4c63-af64-22aa3befc93a"
      },
      "source": [
        "train_img_nonull.shape,train_kp_nonull.shape,train_img_null.shape,train_kp_null.shape,test_img.shape"
      ],
      "execution_count": 10,
      "outputs": [
        {
          "output_type": "execute_result",
          "data": {
            "text/plain": [
              "((2140, 96, 96, 1),\n",
              " (2140, 30),\n",
              " (4909, 96, 96, 1),\n",
              " (4909, 30),\n",
              " (1783, 96, 96, 1))"
            ]
          },
          "metadata": {
            "tags": []
          },
          "execution_count": 10
        }
      ]
    },
    {
      "cell_type": "code",
      "metadata": {
        "id": "oiZ9blT30F0L",
        "colab_type": "code",
        "colab": {
          "base_uri": "https://localhost:8080/",
          "height": 545
        },
        "outputId": "681879b9-21e6-4412-b601-6e1eeef99450"
      },
      "source": [
        "fig, axis = plt.subplots()\n",
        "plot_sample(train_img_nonull[24],train_kp_nonull[24],axis,'Sample')\n",
        "fig, axis = plt.subplots()\n",
        "plot_sample(train_img_nonull[23],train_kp_nonull[23],axis,'Sample')"
      ],
      "execution_count": 11,
      "outputs": [
        {
          "output_type": "display_data",
          "data": {
            "image/png": "[encoded data removed]",
            "text/plain": [
              "<Figure size 432x288 with 1 Axes>"
            ]
          },
          "metadata": {
            "tags": [],
            "needs_background": "light"
          }
        },
        {
          "output_type": "display_data",
          "data": {
            "image/png": "[encoded data removed]",
            "text/plain": [
              "<Figure size 432x288 with 1 Axes>"
            ]
          },
          "metadata": {
            "tags": [],
            "needs_background": "light"
          }
        }
      ]
    },
    {
      "cell_type": "code",
      "metadata": {
        "id": "wguriV_W0Ho7",
        "colab_type": "code",
        "colab": {}
      },
      "source": [
        "from sklearn.model_selection import KFold\n",
        "from sklearn.metrics import mean_squared_error\n",
        "from keras import backend\n",
        "def rmse(y_true, y_pred):\n",
        "    return backend.sqrt(backend.mean(backend.square(y_pred - y_true), axis=-1))"
      ],
      "execution_count": 12,
      "outputs": []
    },
    {
      "cell_type": "code",
      "metadata": {
        "id": "nnzjAWoD0Ln9",
        "colab_type": "code",
        "colab": {}
      },
      "source": [
        "def get_model(n_layer = 2):\n",
        "  model = Sequential()\n",
        "  model.add(InputLayer(input_shape=[96,96,1]),)\n",
        "  for i in range(0,n_layer):\n",
        "\n",
        "    model.add(Convolution2D(2**(5+i), (3,3), padding='same', use_bias=False, input_shape=(96,96,1)))\n",
        "    model.add(LeakyReLU(alpha = 0.1))\n",
        "    model.add(BatchNormalization())\n",
        "    model.add(Convolution2D(2**(5+i), (3,3), padding='same', use_bias=False, input_shape=(96,96,1)))\n",
        "    model.add(LeakyReLU(alpha = 0.1))\n",
        "    model.add(BatchNormalization())\n",
        "    model.add(MaxPool2D(pool_size=(2, 2)))\n",
        "\n",
        "  model.add(Convolution2D(2**(n_layer), (3,3), padding='same', use_bias=False, input_shape=(96,96,1)))\n",
        "  model.add(LeakyReLU(alpha = 0.1))\n",
        "  model.add(BatchNormalization())\n",
        "  model.add(Convolution2D(2**(i), (3,3), padding='same', use_bias=False, input_shape=(96,96,1)))\n",
        "  model.add(LeakyReLU(alpha = 0.1))\n",
        "  model.add(BatchNormalization())\n",
        "  \n",
        "  model.add(Flatten())\n",
        "  model.add(Dense(512,activation='relu'))\n",
        "  model.add(Dropout(0.1))\n",
        "  model.add(Dense(30))\n",
        "  model.compile(optimizer='adam', loss='mean_squared_error',metrics=[rmse,'mae'])\n",
        "\n",
        "  return(model)"
      ],
      "execution_count": 13,
      "outputs": []
    },
    {
      "cell_type": "code",
      "metadata": {
        "id": "qJDnZXVD0Mmw",
        "colab_type": "code",
        "colab": {
          "base_uri": "https://localhost:8080/",
          "height": 1000
        },
        "outputId": "c8b99cf6-6aca-4705-c6e0-72b66101c0cf"
      },
      "source": [
        "step_1model = get_model(5)\n",
        "step_1model.summary()"
      ],
      "execution_count": 14,
      "outputs": [
        {
          "output_type": "stream",
          "text": [
            "Model: \"sequential\"\n",
            "_________________________________________________________________\n",
            "Layer (type)                 Output Shape              Param #   \n",
            "=================================================================\n",
            "conv2d (Conv2D)              (None, 96, 96, 32)        288       \n",
            "_________________________________________________________________\n",
            "leaky_re_lu (LeakyReLU)      (None, 96, 96, 32)        0         \n",
            "_________________________________________________________________\n",
            "batch_normalization (BatchNo (None, 96, 96, 32)        128       \n",
            "_________________________________________________________________\n",
            "conv2d_1 (Conv2D)            (None, 96, 96, 32)        9216      \n",
            "_________________________________________________________________\n",
            "leaky_re_lu_1 (LeakyReLU)    (None, 96, 96, 32)        0         \n",
            "_________________________________________________________________\n",
            "batch_normalization_1 (Batch (None, 96, 96, 32)        128       \n",
            "_________________________________________________________________\n",
            "max_pooling2d (MaxPooling2D) (None, 48, 48, 32)        0         \n",
            "_________________________________________________________________\n",
            "conv2d_2 (Conv2D)            (None, 48, 48, 64)        18432     \n",
            "_________________________________________________________________\n",
            "leaky_re_lu_2 (LeakyReLU)    (None, 48, 48, 64)        0         \n",
            "_________________________________________________________________\n",
            "batch_normalization_2 (Batch (None, 48, 48, 64)        256       \n",
            "_________________________________________________________________\n",
            "conv2d_3 (Conv2D)            (None, 48, 48, 64)        36864     \n",
            "_________________________________________________________________\n",
            "leaky_re_lu_3 (LeakyReLU)    (None, 48, 48, 64)        0         \n",
            "_________________________________________________________________\n",
            "batch_normalization_3 (Batch (None, 48, 48, 64)        256       \n",
            "_________________________________________________________________\n",
            "max_pooling2d_1 (MaxPooling2 (None, 24, 24, 64)        0         \n",
            "_________________________________________________________________\n",
            "conv2d_4 (Conv2D)            (None, 24, 24, 128)       73728     \n",
            "_________________________________________________________________\n",
            "leaky_re_lu_4 (LeakyReLU)    (None, 24, 24, 128)       0         \n",
            "_________________________________________________________________\n",
            "batch_normalization_4 (Batch (None, 24, 24, 128)       512       \n",
            "_________________________________________________________________\n",
            "conv2d_5 (Conv2D)            (None, 24, 24, 128)       147456    \n",
            "_________________________________________________________________\n",
            "leaky_re_lu_5 (LeakyReLU)    (None, 24, 24, 128)       0         \n",
            "_________________________________________________________________\n",
            "batch_normalization_5 (Batch (None, 24, 24, 128)       512       \n",
            "_________________________________________________________________\n",
            "max_pooling2d_2 (MaxPooling2 (None, 12, 12, 128)       0         \n",
            "_________________________________________________________________\n",
            "conv2d_6 (Conv2D)            (None, 12, 12, 256)       294912    \n",
            "_________________________________________________________________\n",
            "leaky_re_lu_6 (LeakyReLU)    (None, 12, 12, 256)       0         \n",
            "_________________________________________________________________\n",
            "batch_normalization_6 (Batch (None, 12, 12, 256)       1024      \n",
            "_________________________________________________________________\n",
            "conv2d_7 (Conv2D)            (None, 12, 12, 256)       589824    \n",
            "_________________________________________________________________\n",
            "leaky_re_lu_7 (LeakyReLU)    (None, 12, 12, 256)       0         \n",
            "_________________________________________________________________\n",
            "batch_normalization_7 (Batch (None, 12, 12, 256)       1024      \n",
            "_________________________________________________________________\n",
            "max_pooling2d_3 (MaxPooling2 (None, 6, 6, 256)         0         \n",
            "_________________________________________________________________\n",
            "conv2d_8 (Conv2D)            (None, 6, 6, 512)         1179648   \n",
            "_________________________________________________________________\n",
            "leaky_re_lu_8 (LeakyReLU)    (None, 6, 6, 512)         0         \n",
            "_________________________________________________________________\n",
            "batch_normalization_8 (Batch (None, 6, 6, 512)         2048      \n",
            "_________________________________________________________________\n",
            "conv2d_9 (Conv2D)            (None, 6, 6, 512)         2359296   \n",
            "_________________________________________________________________\n",
            "leaky_re_lu_9 (LeakyReLU)    (None, 6, 6, 512)         0         \n",
            "_________________________________________________________________\n",
            "batch_normalization_9 (Batch (None, 6, 6, 512)         2048      \n",
            "_________________________________________________________________\n",
            "max_pooling2d_4 (MaxPooling2 (None, 3, 3, 512)         0         \n",
            "_________________________________________________________________\n",
            "conv2d_10 (Conv2D)           (None, 3, 3, 32)          147456    \n",
            "_________________________________________________________________\n",
            "leaky_re_lu_10 (LeakyReLU)   (None, 3, 3, 32)          0         \n",
            "_________________________________________________________________\n",
            "batch_normalization_10 (Batc (None, 3, 3, 32)          128       \n",
            "_________________________________________________________________\n",
            "conv2d_11 (Conv2D)           (None, 3, 3, 16)          4608      \n",
            "_________________________________________________________________\n",
            "leaky_re_lu_11 (LeakyReLU)   (None, 3, 3, 16)          0         \n",
            "_________________________________________________________________\n",
            "batch_normalization_11 (Batc (None, 3, 3, 16)          64        \n",
            "_________________________________________________________________\n",
            "flatten (Flatten)            (None, 144)               0         \n",
            "_________________________________________________________________\n",
            "dense (Dense)                (None, 512)               74240     \n",
            "_________________________________________________________________\n",
            "dropout (Dropout)            (None, 512)               0         \n",
            "_________________________________________________________________\n",
            "dense_1 (Dense)              (None, 30)                15390     \n",
            "=================================================================\n",
            "Total params: 4,959,486\n",
            "Trainable params: 4,955,422\n",
            "Non-trainable params: 4,064\n",
            "_________________________________________________________________\n"
          ],
          "name": "stdout"
        }
      ]
    },
    {
      "cell_type": "code",
      "metadata": {
        "id": "68RlUf1ezh1C",
        "colab_type": "code",
        "colab": {
          "base_uri": "https://localhost:8080/",
          "height": 353
        },
        "outputId": "0818015b-32e4-4e7d-eaf6-696367921754"
      },
      "source": [
        "!nvidia-smi"
      ],
      "execution_count": 15,
      "outputs": [
        {
          "output_type": "stream",
          "text": [
            "Mon Aug 10 05:18:37 2020       \n",
            "+-----------------------------------------------------------------------------+\n",
            "| NVIDIA-SMI 450.57       Driver Version: 418.67       CUDA Version: 10.1     |\n",
            "|-------------------------------+----------------------+----------------------+\n",
            "| GPU  Name        Persistence-M| Bus-Id        Disp.A | Volatile Uncorr. ECC |\n",
            "| Fan  Temp  Perf  Pwr:Usage/Cap|         Memory-Usage | GPU-Util  Compute M. |\n",
            "|                               |                      |               MIG M. |\n",
            "|===============================+======================+======================|\n",
            "|   0  Tesla P100-PCIE...  Off  | 00000000:00:04.0 Off |                    0 |\n",
            "| N/A   41C    P0    32W / 250W |    423MiB / 16280MiB |      0%      Default |\n",
            "|                               |                      |                 ERR! |\n",
            "+-------------------------------+----------------------+----------------------+\n",
            "                                                                               \n",
            "+-----------------------------------------------------------------------------+\n",
            "| Processes:                                                                  |\n",
            "|  GPU   GI   CI        PID   Type   Process name                  GPU Memory |\n",
            "|        ID   ID                                                   Usage      |\n",
            "|=============================================================================|\n",
            "|  No running processes found                                                 |\n",
            "+-----------------------------------------------------------------------------+\n"
          ],
          "name": "stdout"
        }
      ]
    },
    {
      "cell_type": "code",
      "metadata": {
        "id": "_Zyi2GHn0N00",
        "colab_type": "code",
        "colab": {
          "base_uri": "https://localhost:8080/",
          "height": 1000
        },
        "outputId": "15206fc0-8a63-4cba-f083-7a515fe10e3b"
      },
      "source": [
        "monitor = EarlyStopping(monitor='val_loss', min_delta=1e-3, patience=50, \n",
        "        verbose=1, mode='auto', restore_best_weights=True)\n",
        "hist = step_1model.fit(train_img_nonull,train_kp_nonull,validation_split = 0.2,epochs = 1000,batch_size = 10,callbacks=[monitor],verbose=2)"
      ],
      "execution_count": 16,
      "outputs": [
        {
          "output_type": "stream",
          "text": [
            "Epoch 1/1000\n",
            "172/172 - 3s - loss: 289.5170 - rmse: 10.0877 - mae: 8.6808 - val_loss: 222.1659 - val_rmse: 14.8330 - val_mae: 13.4631\n",
            "Epoch 2/1000\n",
            "172/172 - 2s - loss: 11.2939 - rmse: 3.2220 - mae: 2.5811 - val_loss: 20.9916 - val_rmse: 4.3679 - val_mae: 3.4782\n",
            "Epoch 3/1000\n",
            "172/172 - 2s - loss: 10.7140 - rmse: 3.1431 - mae: 2.5206 - val_loss: 16.4711 - val_rmse: 3.8725 - val_mae: 3.0948\n",
            "Epoch 4/1000\n",
            "172/172 - 2s - loss: 9.9952 - rmse: 3.0229 - mae: 2.4252 - val_loss: 21.4544 - val_rmse: 4.4938 - val_mae: 3.6240\n",
            "Epoch 5/1000\n",
            "172/172 - 2s - loss: 9.2034 - rmse: 2.9004 - mae: 2.3315 - val_loss: 19.8392 - val_rmse: 4.3224 - val_mae: 3.4498\n",
            "Epoch 6/1000\n",
            "172/172 - 2s - loss: 8.7804 - rmse: 2.8363 - mae: 2.2755 - val_loss: 18.4039 - val_rmse: 4.1353 - val_mae: 3.3359\n",
            "Epoch 7/1000\n",
            "172/172 - 2s - loss: 8.2054 - rmse: 2.7324 - mae: 2.1889 - val_loss: 13.9473 - val_rmse: 3.5647 - val_mae: 2.8175\n",
            "Epoch 8/1000\n",
            "172/172 - 2s - loss: 7.4098 - rmse: 2.6019 - mae: 2.0856 - val_loss: 14.3069 - val_rmse: 3.6220 - val_mae: 2.8534\n",
            "Epoch 9/1000\n",
            "172/172 - 2s - loss: 6.5419 - rmse: 2.4516 - mae: 1.9541 - val_loss: 10.3821 - val_rmse: 3.0412 - val_mae: 2.3833\n",
            "Epoch 10/1000\n",
            "172/172 - 2s - loss: 6.2305 - rmse: 2.3910 - mae: 1.9056 - val_loss: 10.1082 - val_rmse: 2.9947 - val_mae: 2.3327\n",
            "Epoch 11/1000\n",
            "172/172 - 2s - loss: 6.1385 - rmse: 2.3687 - mae: 1.8882 - val_loss: 10.2983 - val_rmse: 3.0609 - val_mae: 2.3921\n",
            "Epoch 12/1000\n",
            "172/172 - 2s - loss: 5.8407 - rmse: 2.3122 - mae: 1.8455 - val_loss: 9.4884 - val_rmse: 2.8920 - val_mae: 2.2241\n",
            "Epoch 13/1000\n",
            "172/172 - 2s - loss: 5.2734 - rmse: 2.2052 - mae: 1.7631 - val_loss: 15.4692 - val_rmse: 3.8066 - val_mae: 3.0212\n",
            "Epoch 14/1000\n",
            "172/172 - 2s - loss: 5.3677 - rmse: 2.2113 - mae: 1.7818 - val_loss: 8.1736 - val_rmse: 2.6766 - val_mae: 2.0593\n",
            "Epoch 15/1000\n",
            "172/172 - 2s - loss: 4.9094 - rmse: 2.1184 - mae: 1.6990 - val_loss: 8.7434 - val_rmse: 2.7775 - val_mae: 2.1598\n",
            "Epoch 16/1000\n",
            "172/172 - 2s - loss: 4.9389 - rmse: 2.1177 - mae: 1.7039 - val_loss: 8.7848 - val_rmse: 2.7862 - val_mae: 2.1760\n",
            "Epoch 17/1000\n",
            "172/172 - 2s - loss: 4.7543 - rmse: 2.0766 - mae: 1.6742 - val_loss: 8.1935 - val_rmse: 2.6540 - val_mae: 2.0392\n",
            "Epoch 18/1000\n",
            "172/172 - 2s - loss: 4.4727 - rmse: 2.0157 - mae: 1.6215 - val_loss: 10.0868 - val_rmse: 3.0202 - val_mae: 2.3748\n",
            "Epoch 19/1000\n",
            "172/172 - 2s - loss: 4.7786 - rmse: 2.0792 - mae: 1.6803 - val_loss: 8.0873 - val_rmse: 2.6745 - val_mae: 2.0528\n",
            "Epoch 20/1000\n",
            "172/172 - 2s - loss: 4.3753 - rmse: 1.9961 - mae: 1.6113 - val_loss: 8.6002 - val_rmse: 2.7591 - val_mae: 2.1030\n",
            "Epoch 21/1000\n",
            "172/172 - 2s - loss: 4.1292 - rmse: 1.9348 - mae: 1.5548 - val_loss: 8.6648 - val_rmse: 2.7723 - val_mae: 2.1509\n",
            "Epoch 22/1000\n",
            "172/172 - 2s - loss: 4.2454 - rmse: 1.9643 - mae: 1.5843 - val_loss: 11.4759 - val_rmse: 3.2276 - val_mae: 2.5951\n",
            "Epoch 23/1000\n",
            "172/172 - 2s - loss: 4.3491 - rmse: 1.9828 - mae: 1.6068 - val_loss: 7.4535 - val_rmse: 2.5415 - val_mae: 1.9565\n",
            "Epoch 24/1000\n",
            "172/172 - 2s - loss: 3.8698 - rmse: 1.8784 - mae: 1.5074 - val_loss: 7.3816 - val_rmse: 2.5250 - val_mae: 1.9518\n",
            "Epoch 25/1000\n",
            "172/172 - 2s - loss: 4.0800 - rmse: 1.9190 - mae: 1.5486 - val_loss: 7.9666 - val_rmse: 2.6647 - val_mae: 2.0676\n",
            "Epoch 26/1000\n",
            "172/172 - 2s - loss: 4.0421 - rmse: 1.9102 - mae: 1.5449 - val_loss: 7.4225 - val_rmse: 2.5278 - val_mae: 1.9326\n",
            "Epoch 27/1000\n",
            "172/172 - 2s - loss: 3.8731 - rmse: 1.8682 - mae: 1.5072 - val_loss: 8.3371 - val_rmse: 2.7341 - val_mae: 2.0719\n",
            "Epoch 28/1000\n",
            "172/172 - 2s - loss: 4.0298 - rmse: 1.9027 - mae: 1.5410 - val_loss: 7.0522 - val_rmse: 2.4755 - val_mae: 1.9161\n",
            "Epoch 29/1000\n",
            "172/172 - 2s - loss: 3.9332 - rmse: 1.8789 - mae: 1.5237 - val_loss: 12.7439 - val_rmse: 3.4060 - val_mae: 2.7242\n",
            "Epoch 30/1000\n",
            "172/172 - 2s - loss: 4.4781 - rmse: 1.9884 - mae: 1.6114 - val_loss: 7.3941 - val_rmse: 2.5237 - val_mae: 1.9532\n",
            "Epoch 31/1000\n",
            "172/172 - 2s - loss: 3.9277 - rmse: 1.8779 - mae: 1.5205 - val_loss: 7.3056 - val_rmse: 2.5213 - val_mae: 1.9269\n",
            "Epoch 32/1000\n",
            "172/172 - 2s - loss: 3.7286 - rmse: 1.8298 - mae: 1.4798 - val_loss: 7.1362 - val_rmse: 2.4799 - val_mae: 1.9094\n",
            "Epoch 33/1000\n",
            "172/172 - 2s - loss: 3.7671 - rmse: 1.8321 - mae: 1.4895 - val_loss: 8.2186 - val_rmse: 2.7090 - val_mae: 2.1376\n",
            "Epoch 34/1000\n",
            "172/172 - 2s - loss: 3.6003 - rmse: 1.7942 - mae: 1.4606 - val_loss: 6.9756 - val_rmse: 2.4340 - val_mae: 1.8614\n",
            "Epoch 35/1000\n",
            "172/172 - 2s - loss: 3.4449 - rmse: 1.7592 - mae: 1.4255 - val_loss: 8.9355 - val_rmse: 2.8454 - val_mae: 2.2475\n",
            "Epoch 36/1000\n",
            "172/172 - 2s - loss: 3.4924 - rmse: 1.7648 - mae: 1.4349 - val_loss: 8.2182 - val_rmse: 2.6775 - val_mae: 2.0917\n",
            "Epoch 37/1000\n",
            "172/172 - 2s - loss: 3.6241 - rmse: 1.7898 - mae: 1.4592 - val_loss: 6.4469 - val_rmse: 2.3441 - val_mae: 1.7949\n",
            "Epoch 38/1000\n",
            "172/172 - 2s - loss: 3.4397 - rmse: 1.7494 - mae: 1.4225 - val_loss: 7.2439 - val_rmse: 2.5181 - val_mae: 1.9587\n",
            "Epoch 39/1000\n",
            "172/172 - 2s - loss: 3.4778 - rmse: 1.7520 - mae: 1.4290 - val_loss: 8.0314 - val_rmse: 2.6635 - val_mae: 2.1086\n",
            "Epoch 40/1000\n",
            "172/172 - 2s - loss: 3.2952 - rmse: 1.7135 - mae: 1.3951 - val_loss: 6.4892 - val_rmse: 2.3570 - val_mae: 1.8140\n",
            "Epoch 41/1000\n",
            "172/172 - 2s - loss: 3.3769 - rmse: 1.7332 - mae: 1.4143 - val_loss: 7.4773 - val_rmse: 2.5573 - val_mae: 2.0181\n",
            "Epoch 42/1000\n",
            "172/172 - 2s - loss: 3.4804 - rmse: 1.7550 - mae: 1.4347 - val_loss: 10.5931 - val_rmse: 3.1143 - val_mae: 2.5097\n",
            "Epoch 43/1000\n",
            "172/172 - 2s - loss: 3.6284 - rmse: 1.7844 - mae: 1.4663 - val_loss: 6.5932 - val_rmse: 2.3858 - val_mae: 1.8477\n",
            "Epoch 44/1000\n",
            "172/172 - 2s - loss: 3.4243 - rmse: 1.7388 - mae: 1.4235 - val_loss: 7.4656 - val_rmse: 2.5747 - val_mae: 2.0355\n",
            "Epoch 45/1000\n",
            "172/172 - 2s - loss: 3.5681 - rmse: 1.7666 - mae: 1.4516 - val_loss: 8.2159 - val_rmse: 2.7188 - val_mae: 2.1359\n",
            "Epoch 46/1000\n",
            "172/172 - 2s - loss: 3.0279 - rmse: 1.6381 - mae: 1.3342 - val_loss: 6.2739 - val_rmse: 2.3075 - val_mae: 1.7805\n",
            "Epoch 47/1000\n",
            "172/172 - 2s - loss: 3.0453 - rmse: 1.6449 - mae: 1.3401 - val_loss: 6.1026 - val_rmse: 2.2764 - val_mae: 1.7411\n",
            "Epoch 48/1000\n",
            "172/172 - 2s - loss: 3.3812 - rmse: 1.7192 - mae: 1.4127 - val_loss: 5.6917 - val_rmse: 2.1880 - val_mae: 1.6725\n",
            "Epoch 49/1000\n",
            "172/172 - 2s - loss: 2.9234 - rmse: 1.6145 - mae: 1.3149 - val_loss: 5.8895 - val_rmse: 2.2219 - val_mae: 1.7119\n",
            "Epoch 50/1000\n",
            "172/172 - 2s - loss: 3.1631 - rmse: 1.6661 - mae: 1.3638 - val_loss: 5.8154 - val_rmse: 2.2171 - val_mae: 1.7073\n",
            "Epoch 51/1000\n",
            "172/172 - 2s - loss: 3.5452 - rmse: 1.7541 - mae: 1.4492 - val_loss: 5.9899 - val_rmse: 2.2670 - val_mae: 1.7409\n",
            "Epoch 52/1000\n",
            "172/172 - 2s - loss: 3.2665 - rmse: 1.6983 - mae: 1.3989 - val_loss: 7.0900 - val_rmse: 2.4956 - val_mae: 1.9124\n",
            "Epoch 53/1000\n",
            "172/172 - 2s - loss: 3.1530 - rmse: 1.6665 - mae: 1.3715 - val_loss: 5.8368 - val_rmse: 2.2231 - val_mae: 1.7008\n",
            "Epoch 54/1000\n",
            "172/172 - 2s - loss: 3.0191 - rmse: 1.6284 - mae: 1.3394 - val_loss: 7.9288 - val_rmse: 2.6703 - val_mae: 2.1475\n",
            "Epoch 55/1000\n",
            "172/172 - 2s - loss: 2.9671 - rmse: 1.6181 - mae: 1.3260 - val_loss: 5.5943 - val_rmse: 2.1775 - val_mae: 1.6658\n",
            "Epoch 56/1000\n",
            "172/172 - 2s - loss: 2.8648 - rmse: 1.5874 - mae: 1.2972 - val_loss: 7.3481 - val_rmse: 2.5002 - val_mae: 1.9539\n",
            "Epoch 57/1000\n",
            "172/172 - 2s - loss: 2.8144 - rmse: 1.5780 - mae: 1.2915 - val_loss: 5.4541 - val_rmse: 2.1423 - val_mae: 1.6393\n",
            "Epoch 58/1000\n",
            "172/172 - 2s - loss: 2.7814 - rmse: 1.5696 - mae: 1.2867 - val_loss: 6.5156 - val_rmse: 2.3420 - val_mae: 1.8427\n",
            "Epoch 59/1000\n",
            "172/172 - 2s - loss: 3.0226 - rmse: 1.6277 - mae: 1.3407 - val_loss: 5.7049 - val_rmse: 2.2050 - val_mae: 1.6932\n",
            "Epoch 60/1000\n",
            "172/172 - 2s - loss: 2.9967 - rmse: 1.6226 - mae: 1.3389 - val_loss: 6.2240 - val_rmse: 2.3014 - val_mae: 1.7812\n",
            "Epoch 61/1000\n",
            "172/172 - 2s - loss: 2.8213 - rmse: 1.5758 - mae: 1.2908 - val_loss: 5.9573 - val_rmse: 2.2492 - val_mae: 1.7206\n",
            "Epoch 62/1000\n",
            "172/172 - 2s - loss: 2.8450 - rmse: 1.5789 - mae: 1.2957 - val_loss: 6.6808 - val_rmse: 2.4280 - val_mae: 1.8773\n",
            "Epoch 63/1000\n",
            "172/172 - 2s - loss: 2.8214 - rmse: 1.5799 - mae: 1.2990 - val_loss: 7.6015 - val_rmse: 2.5763 - val_mae: 2.0596\n",
            "Epoch 64/1000\n",
            "172/172 - 2s - loss: 2.8340 - rmse: 1.5734 - mae: 1.2972 - val_loss: 9.3817 - val_rmse: 2.8936 - val_mae: 2.3764\n",
            "Epoch 65/1000\n",
            "172/172 - 2s - loss: 2.8011 - rmse: 1.5630 - mae: 1.2870 - val_loss: 5.1566 - val_rmse: 2.0708 - val_mae: 1.5735\n",
            "Epoch 66/1000\n",
            "172/172 - 2s - loss: 2.6505 - rmse: 1.5304 - mae: 1.2618 - val_loss: 5.0777 - val_rmse: 2.0364 - val_mae: 1.5536\n",
            "Epoch 67/1000\n",
            "172/172 - 2s - loss: 2.7866 - rmse: 1.5606 - mae: 1.2876 - val_loss: 5.4451 - val_rmse: 2.1245 - val_mae: 1.6320\n",
            "Epoch 68/1000\n",
            "172/172 - 2s - loss: 3.0106 - rmse: 1.6107 - mae: 1.3301 - val_loss: 6.1676 - val_rmse: 2.3197 - val_mae: 1.8023\n",
            "Epoch 69/1000\n",
            "172/172 - 2s - loss: 2.6930 - rmse: 1.5347 - mae: 1.2641 - val_loss: 5.1939 - val_rmse: 2.0756 - val_mae: 1.5837\n",
            "Epoch 70/1000\n",
            "172/172 - 2s - loss: 2.7457 - rmse: 1.5453 - mae: 1.2781 - val_loss: 5.4377 - val_rmse: 2.1464 - val_mae: 1.6510\n",
            "Epoch 71/1000\n",
            "172/172 - 2s - loss: 2.8393 - rmse: 1.5723 - mae: 1.2973 - val_loss: 5.8709 - val_rmse: 2.2509 - val_mae: 1.7254\n",
            "Epoch 72/1000\n",
            "172/172 - 2s - loss: 2.6505 - rmse: 1.5264 - mae: 1.2605 - val_loss: 7.3502 - val_rmse: 2.5829 - val_mae: 2.0799\n",
            "Epoch 73/1000\n",
            "172/172 - 2s - loss: 2.6115 - rmse: 1.5141 - mae: 1.2452 - val_loss: 5.2844 - val_rmse: 2.1046 - val_mae: 1.6255\n",
            "Epoch 74/1000\n",
            "172/172 - 2s - loss: 2.8822 - rmse: 1.5800 - mae: 1.3073 - val_loss: 5.3649 - val_rmse: 2.1277 - val_mae: 1.6343\n",
            "Epoch 75/1000\n",
            "172/172 - 2s - loss: 2.8428 - rmse: 1.5696 - mae: 1.3015 - val_loss: 4.8896 - val_rmse: 2.0218 - val_mae: 1.5749\n",
            "Epoch 76/1000\n",
            "172/172 - 2s - loss: 2.6387 - rmse: 1.5158 - mae: 1.2504 - val_loss: 5.1331 - val_rmse: 2.0727 - val_mae: 1.6023\n",
            "Epoch 77/1000\n",
            "172/172 - 2s - loss: 2.8659 - rmse: 1.5746 - mae: 1.3068 - val_loss: 9.1393 - val_rmse: 2.8755 - val_mae: 2.3565\n",
            "Epoch 78/1000\n",
            "172/172 - 2s - loss: 2.7620 - rmse: 1.5482 - mae: 1.2821 - val_loss: 5.1965 - val_rmse: 2.0824 - val_mae: 1.6315\n",
            "Epoch 79/1000\n",
            "172/172 - 2s - loss: 2.6363 - rmse: 1.5155 - mae: 1.2535 - val_loss: 8.0699 - val_rmse: 2.7040 - val_mae: 2.1815\n",
            "Epoch 80/1000\n",
            "172/172 - 2s - loss: 2.7380 - rmse: 1.5351 - mae: 1.2684 - val_loss: 5.5494 - val_rmse: 2.1664 - val_mae: 1.6875\n",
            "Epoch 81/1000\n",
            "172/172 - 2s - loss: 2.5560 - rmse: 1.4974 - mae: 1.2335 - val_loss: 5.5195 - val_rmse: 2.1357 - val_mae: 1.6556\n",
            "Epoch 82/1000\n",
            "172/172 - 2s - loss: 2.4399 - rmse: 1.4595 - mae: 1.2028 - val_loss: 6.0697 - val_rmse: 2.2799 - val_mae: 1.7708\n",
            "Epoch 83/1000\n",
            "172/172 - 2s - loss: 2.6393 - rmse: 1.5134 - mae: 1.2536 - val_loss: 5.4638 - val_rmse: 2.1391 - val_mae: 1.6416\n",
            "Epoch 84/1000\n",
            "172/172 - 2s - loss: 2.5914 - rmse: 1.4968 - mae: 1.2379 - val_loss: 4.9296 - val_rmse: 2.0199 - val_mae: 1.5480\n",
            "Epoch 85/1000\n",
            "172/172 - 2s - loss: 2.6929 - rmse: 1.5298 - mae: 1.2687 - val_loss: 5.1185 - val_rmse: 2.0538 - val_mae: 1.5682\n",
            "Epoch 86/1000\n",
            "172/172 - 2s - loss: 2.5185 - rmse: 1.4840 - mae: 1.2279 - val_loss: 6.4500 - val_rmse: 2.3719 - val_mae: 1.8638\n",
            "Epoch 87/1000\n",
            "172/172 - 2s - loss: 2.5368 - rmse: 1.4800 - mae: 1.2229 - val_loss: 4.8146 - val_rmse: 1.9833 - val_mae: 1.5239\n",
            "Epoch 88/1000\n",
            "172/172 - 2s - loss: 2.6211 - rmse: 1.5039 - mae: 1.2503 - val_loss: 5.9355 - val_rmse: 2.2681 - val_mae: 1.7667\n",
            "Epoch 89/1000\n",
            "172/172 - 2s - loss: 2.5545 - rmse: 1.4873 - mae: 1.2338 - val_loss: 5.0578 - val_rmse: 2.0658 - val_mae: 1.5636\n",
            "Epoch 90/1000\n",
            "172/172 - 2s - loss: 2.4230 - rmse: 1.4536 - mae: 1.2010 - val_loss: 4.9974 - val_rmse: 2.0351 - val_mae: 1.5678\n",
            "Epoch 91/1000\n",
            "172/172 - 2s - loss: 2.7373 - rmse: 1.5284 - mae: 1.2713 - val_loss: 5.1697 - val_rmse: 2.0664 - val_mae: 1.5926\n",
            "Epoch 92/1000\n",
            "172/172 - 2s - loss: 2.5894 - rmse: 1.5010 - mae: 1.2484 - val_loss: 5.7846 - val_rmse: 2.2357 - val_mae: 1.7313\n",
            "Epoch 93/1000\n",
            "172/172 - 2s - loss: 2.4431 - rmse: 1.4582 - mae: 1.2086 - val_loss: 5.1132 - val_rmse: 2.0501 - val_mae: 1.5677\n",
            "Epoch 94/1000\n",
            "172/172 - 2s - loss: 2.6031 - rmse: 1.4903 - mae: 1.2373 - val_loss: 5.9043 - val_rmse: 2.2403 - val_mae: 1.7405\n",
            "Epoch 95/1000\n",
            "172/172 - 2s - loss: 2.5550 - rmse: 1.4892 - mae: 1.2376 - val_loss: 5.5301 - val_rmse: 2.1471 - val_mae: 1.6508\n",
            "Epoch 96/1000\n",
            "172/172 - 2s - loss: 2.5242 - rmse: 1.4754 - mae: 1.2247 - val_loss: 7.0886 - val_rmse: 2.4569 - val_mae: 1.9578\n",
            "Epoch 97/1000\n",
            "172/172 - 2s - loss: 2.4609 - rmse: 1.4570 - mae: 1.2093 - val_loss: 5.3409 - val_rmse: 2.1350 - val_mae: 1.6480\n",
            "Epoch 98/1000\n",
            "172/172 - 2s - loss: 2.5634 - rmse: 1.4800 - mae: 1.2305 - val_loss: 5.7341 - val_rmse: 2.1836 - val_mae: 1.6854\n",
            "Epoch 99/1000\n",
            "172/172 - 2s - loss: 2.5712 - rmse: 1.4922 - mae: 1.2423 - val_loss: 4.9091 - val_rmse: 2.0142 - val_mae: 1.5417\n",
            "Epoch 100/1000\n",
            "172/172 - 2s - loss: 2.6358 - rmse: 1.4990 - mae: 1.2472 - val_loss: 5.5110 - val_rmse: 2.1622 - val_mae: 1.6778\n",
            "Epoch 101/1000\n",
            "172/172 - 2s - loss: 2.5225 - rmse: 1.4750 - mae: 1.2273 - val_loss: 5.0581 - val_rmse: 2.0396 - val_mae: 1.5481\n",
            "Epoch 102/1000\n",
            "172/172 - 2s - loss: 2.3286 - rmse: 1.4167 - mae: 1.1709 - val_loss: 7.1633 - val_rmse: 2.5096 - val_mae: 2.0054\n",
            "Epoch 103/1000\n",
            "172/172 - 2s - loss: 2.5271 - rmse: 1.4739 - mae: 1.2255 - val_loss: 5.3960 - val_rmse: 2.1418 - val_mae: 1.6753\n",
            "Epoch 104/1000\n",
            "172/172 - 3s - loss: 2.6379 - rmse: 1.5019 - mae: 1.2557 - val_loss: 5.1307 - val_rmse: 2.0557 - val_mae: 1.5728\n",
            "Epoch 105/1000\n",
            "172/172 - 2s - loss: 2.3794 - rmse: 1.4336 - mae: 1.1922 - val_loss: 4.9605 - val_rmse: 2.0141 - val_mae: 1.5450\n",
            "Epoch 106/1000\n",
            "172/172 - 2s - loss: 2.4421 - rmse: 1.4497 - mae: 1.2064 - val_loss: 7.0778 - val_rmse: 2.4888 - val_mae: 1.9767\n",
            "Epoch 107/1000\n",
            "172/172 - 2s - loss: 2.2944 - rmse: 1.4112 - mae: 1.1715 - val_loss: 5.1204 - val_rmse: 2.0508 - val_mae: 1.5699\n",
            "Epoch 108/1000\n",
            "172/172 - 2s - loss: 2.4691 - rmse: 1.4572 - mae: 1.2137 - val_loss: 4.6791 - val_rmse: 1.9429 - val_mae: 1.4866\n",
            "Epoch 109/1000\n",
            "172/172 - 2s - loss: 2.4200 - rmse: 1.4423 - mae: 1.2016 - val_loss: 4.8864 - val_rmse: 1.9959 - val_mae: 1.5267\n",
            "Epoch 110/1000\n",
            "172/172 - 2s - loss: 2.3622 - rmse: 1.4249 - mae: 1.1850 - val_loss: 5.7653 - val_rmse: 2.2241 - val_mae: 1.7470\n",
            "Epoch 111/1000\n",
            "172/172 - 2s - loss: 2.4345 - rmse: 1.4477 - mae: 1.2066 - val_loss: 4.6077 - val_rmse: 1.9297 - val_mae: 1.4778\n",
            "Epoch 112/1000\n",
            "172/172 - 2s - loss: 2.4231 - rmse: 1.4423 - mae: 1.2001 - val_loss: 5.3257 - val_rmse: 2.1040 - val_mae: 1.6489\n",
            "Epoch 113/1000\n",
            "172/172 - 2s - loss: 2.6199 - rmse: 1.4952 - mae: 1.2515 - val_loss: 8.0658 - val_rmse: 2.6873 - val_mae: 2.1789\n",
            "Epoch 114/1000\n",
            "172/172 - 2s - loss: 2.4096 - rmse: 1.4344 - mae: 1.1954 - val_loss: 4.9028 - val_rmse: 2.0021 - val_mae: 1.5313\n",
            "Epoch 115/1000\n",
            "172/172 - 2s - loss: 2.3457 - rmse: 1.4235 - mae: 1.1861 - val_loss: 4.9071 - val_rmse: 1.9960 - val_mae: 1.5270\n",
            "Epoch 116/1000\n",
            "172/172 - 2s - loss: 2.2920 - rmse: 1.3969 - mae: 1.1620 - val_loss: 5.3485 - val_rmse: 2.1158 - val_mae: 1.6305\n",
            "Epoch 117/1000\n",
            "172/172 - 2s - loss: 2.3698 - rmse: 1.4241 - mae: 1.1859 - val_loss: 4.7376 - val_rmse: 1.9651 - val_mae: 1.4980\n",
            "Epoch 118/1000\n",
            "172/172 - 2s - loss: 2.3271 - rmse: 1.4183 - mae: 1.1822 - val_loss: 5.3251 - val_rmse: 2.1169 - val_mae: 1.6458\n",
            "Epoch 119/1000\n",
            "172/172 - 2s - loss: 2.4197 - rmse: 1.4390 - mae: 1.2026 - val_loss: 5.1714 - val_rmse: 2.0744 - val_mae: 1.5924\n",
            "Epoch 120/1000\n",
            "172/172 - 2s - loss: 2.3326 - rmse: 1.4104 - mae: 1.1769 - val_loss: 6.9565 - val_rmse: 2.4515 - val_mae: 1.9683\n",
            "Epoch 121/1000\n",
            "172/172 - 2s - loss: 2.6028 - rmse: 1.4823 - mae: 1.2410 - val_loss: 5.3110 - val_rmse: 2.0975 - val_mae: 1.6182\n",
            "Epoch 122/1000\n",
            "172/172 - 2s - loss: 2.3247 - rmse: 1.4130 - mae: 1.1770 - val_loss: 5.5259 - val_rmse: 2.1451 - val_mae: 1.6493\n",
            "Epoch 123/1000\n",
            "172/172 - 2s - loss: 2.2799 - rmse: 1.3955 - mae: 1.1585 - val_loss: 4.8954 - val_rmse: 1.9868 - val_mae: 1.5220\n",
            "Epoch 124/1000\n",
            "172/172 - 2s - loss: 2.2589 - rmse: 1.3947 - mae: 1.1572 - val_loss: 5.2289 - val_rmse: 2.1096 - val_mae: 1.6351\n",
            "Epoch 125/1000\n",
            "172/172 - 2s - loss: 2.2317 - rmse: 1.3813 - mae: 1.1479 - val_loss: 4.9831 - val_rmse: 2.0103 - val_mae: 1.5506\n",
            "Epoch 126/1000\n",
            "172/172 - 2s - loss: 2.1578 - rmse: 1.3677 - mae: 1.1363 - val_loss: 4.5990 - val_rmse: 1.9315 - val_mae: 1.4779\n",
            "Epoch 127/1000\n",
            "172/172 - 2s - loss: 2.2102 - rmse: 1.3721 - mae: 1.1407 - val_loss: 4.9982 - val_rmse: 2.0263 - val_mae: 1.5477\n",
            "Epoch 128/1000\n",
            "172/172 - 2s - loss: 2.2804 - rmse: 1.3958 - mae: 1.1645 - val_loss: 6.2394 - val_rmse: 2.3186 - val_mae: 1.8267\n",
            "Epoch 129/1000\n",
            "172/172 - 2s - loss: 2.3399 - rmse: 1.4187 - mae: 1.1835 - val_loss: 5.9436 - val_rmse: 2.2398 - val_mae: 1.7437\n",
            "Epoch 130/1000\n",
            "172/172 - 2s - loss: 2.2883 - rmse: 1.4015 - mae: 1.1665 - val_loss: 4.8105 - val_rmse: 1.9742 - val_mae: 1.5232\n",
            "Epoch 131/1000\n",
            "172/172 - 2s - loss: 2.2206 - rmse: 1.3778 - mae: 1.1437 - val_loss: 6.9220 - val_rmse: 2.4915 - val_mae: 1.9978\n",
            "Epoch 132/1000\n",
            "172/172 - 2s - loss: 2.3677 - rmse: 1.4218 - mae: 1.1865 - val_loss: 4.6838 - val_rmse: 1.9509 - val_mae: 1.4941\n",
            "Epoch 133/1000\n",
            "172/172 - 2s - loss: 2.3043 - rmse: 1.4015 - mae: 1.1699 - val_loss: 5.1110 - val_rmse: 2.0582 - val_mae: 1.5867\n",
            "Epoch 134/1000\n",
            "172/172 - 2s - loss: 2.2045 - rmse: 1.3701 - mae: 1.1405 - val_loss: 5.1226 - val_rmse: 2.0625 - val_mae: 1.5915\n",
            "Epoch 135/1000\n",
            "172/172 - 2s - loss: 2.2873 - rmse: 1.3933 - mae: 1.1632 - val_loss: 5.2680 - val_rmse: 2.1058 - val_mae: 1.6402\n",
            "Epoch 136/1000\n",
            "172/172 - 2s - loss: 2.5321 - rmse: 1.4622 - mae: 1.2287 - val_loss: 5.1473 - val_rmse: 2.0566 - val_mae: 1.5613\n",
            "Epoch 137/1000\n",
            "172/172 - 2s - loss: 2.2644 - rmse: 1.3845 - mae: 1.1538 - val_loss: 4.9117 - val_rmse: 2.0064 - val_mae: 1.5418\n",
            "Epoch 138/1000\n",
            "172/172 - 2s - loss: 2.2518 - rmse: 1.3884 - mae: 1.1585 - val_loss: 4.8413 - val_rmse: 1.9814 - val_mae: 1.5212\n",
            "Epoch 139/1000\n",
            "172/172 - 2s - loss: 2.3160 - rmse: 1.4039 - mae: 1.1746 - val_loss: 5.0479 - val_rmse: 2.0409 - val_mae: 1.5803\n",
            "Epoch 140/1000\n",
            "172/172 - 2s - loss: 2.2915 - rmse: 1.3955 - mae: 1.1689 - val_loss: 7.1973 - val_rmse: 2.5029 - val_mae: 2.0017\n",
            "Epoch 141/1000\n",
            "172/172 - 2s - loss: 2.3626 - rmse: 1.4152 - mae: 1.1871 - val_loss: 5.0256 - val_rmse: 2.0299 - val_mae: 1.5686\n",
            "Epoch 142/1000\n",
            "172/172 - 2s - loss: 2.1788 - rmse: 1.3653 - mae: 1.1408 - val_loss: 4.9097 - val_rmse: 1.9954 - val_mae: 1.5265\n",
            "Epoch 143/1000\n",
            "172/172 - 2s - loss: 2.5476 - rmse: 1.4631 - mae: 1.2298 - val_loss: 5.5681 - val_rmse: 2.1956 - val_mae: 1.7176\n",
            "Epoch 144/1000\n",
            "172/172 - 2s - loss: 2.3464 - rmse: 1.4166 - mae: 1.1828 - val_loss: 4.9753 - val_rmse: 2.0227 - val_mae: 1.5467\n",
            "Epoch 145/1000\n",
            "172/172 - 2s - loss: 2.1899 - rmse: 1.3724 - mae: 1.1440 - val_loss: 5.1244 - val_rmse: 2.0465 - val_mae: 1.5739\n",
            "Epoch 146/1000\n",
            "172/172 - 2s - loss: 2.2729 - rmse: 1.3833 - mae: 1.1553 - val_loss: 5.1019 - val_rmse: 2.0414 - val_mae: 1.5701\n",
            "Epoch 147/1000\n",
            "172/172 - 2s - loss: 2.3686 - rmse: 1.4139 - mae: 1.1835 - val_loss: 4.7620 - val_rmse: 1.9683 - val_mae: 1.4968\n",
            "Epoch 148/1000\n",
            "172/172 - 2s - loss: 2.1418 - rmse: 1.3593 - mae: 1.1344 - val_loss: 4.8592 - val_rmse: 2.0021 - val_mae: 1.5377\n",
            "Epoch 149/1000\n",
            "172/172 - 2s - loss: 2.2267 - rmse: 1.3748 - mae: 1.1477 - val_loss: 5.2165 - val_rmse: 2.0731 - val_mae: 1.6333\n",
            "Epoch 150/1000\n",
            "172/172 - 2s - loss: 2.1585 - rmse: 1.3571 - mae: 1.1334 - val_loss: 5.6629 - val_rmse: 2.1863 - val_mae: 1.7055\n",
            "Epoch 151/1000\n",
            "172/172 - 2s - loss: 2.1289 - rmse: 1.3468 - mae: 1.1221 - val_loss: 5.0104 - val_rmse: 2.0529 - val_mae: 1.5839\n",
            "Epoch 152/1000\n",
            "172/172 - 2s - loss: 2.3634 - rmse: 1.4075 - mae: 1.1806 - val_loss: 5.3567 - val_rmse: 2.0965 - val_mae: 1.6249\n",
            "Epoch 153/1000\n",
            "172/172 - 2s - loss: 2.1296 - rmse: 1.3515 - mae: 1.1288 - val_loss: 4.9628 - val_rmse: 2.0245 - val_mae: 1.5703\n",
            "Epoch 154/1000\n",
            "172/172 - 2s - loss: 2.2372 - rmse: 1.3805 - mae: 1.1544 - val_loss: 4.6787 - val_rmse: 1.9631 - val_mae: 1.4867\n",
            "Epoch 155/1000\n",
            "172/172 - 2s - loss: 2.3376 - rmse: 1.4037 - mae: 1.1761 - val_loss: 5.1839 - val_rmse: 2.0642 - val_mae: 1.5764\n",
            "Epoch 156/1000\n",
            "172/172 - 2s - loss: 2.2037 - rmse: 1.3646 - mae: 1.1406 - val_loss: 4.6178 - val_rmse: 1.9408 - val_mae: 1.4883\n",
            "Epoch 157/1000\n",
            "172/172 - 2s - loss: 2.2322 - rmse: 1.3751 - mae: 1.1503 - val_loss: 5.3715 - val_rmse: 2.1117 - val_mae: 1.6247\n",
            "Epoch 158/1000\n",
            "172/172 - 2s - loss: 2.1432 - rmse: 1.3558 - mae: 1.1329 - val_loss: 4.6148 - val_rmse: 1.9307 - val_mae: 1.4773\n",
            "Epoch 159/1000\n",
            "172/172 - 2s - loss: 2.1361 - rmse: 1.3389 - mae: 1.1180 - val_loss: 6.5632 - val_rmse: 2.3756 - val_mae: 1.8926\n",
            "Epoch 160/1000\n",
            "172/172 - 2s - loss: 2.2618 - rmse: 1.3882 - mae: 1.1647 - val_loss: 4.9698 - val_rmse: 2.0378 - val_mae: 1.5734\n",
            "Epoch 161/1000\n",
            "172/172 - 2s - loss: 2.1324 - rmse: 1.3458 - mae: 1.1261 - val_loss: 6.1556 - val_rmse: 2.2871 - val_mae: 1.7988\n",
            "Epoch 162/1000\n",
            "172/172 - 2s - loss: 2.3464 - rmse: 1.4064 - mae: 1.1845 - val_loss: 6.4518 - val_rmse: 2.3690 - val_mae: 1.8853\n",
            "Epoch 163/1000\n",
            "172/172 - 2s - loss: 2.2002 - rmse: 1.3702 - mae: 1.1447 - val_loss: 6.4112 - val_rmse: 2.3499 - val_mae: 1.8366\n",
            "Epoch 164/1000\n",
            "172/172 - 2s - loss: 2.1847 - rmse: 1.3602 - mae: 1.1407 - val_loss: 4.7519 - val_rmse: 1.9713 - val_mae: 1.5054\n",
            "Epoch 165/1000\n",
            "172/172 - 2s - loss: 2.0008 - rmse: 1.3101 - mae: 1.0921 - val_loss: 5.3038 - val_rmse: 2.0909 - val_mae: 1.6198\n",
            "Epoch 166/1000\n",
            "172/172 - 2s - loss: 2.1986 - rmse: 1.3662 - mae: 1.1438 - val_loss: 5.0530 - val_rmse: 2.0340 - val_mae: 1.5590\n",
            "Epoch 167/1000\n",
            "172/172 - 2s - loss: 2.1560 - rmse: 1.3535 - mae: 1.1326 - val_loss: 4.8043 - val_rmse: 1.9734 - val_mae: 1.5158\n",
            "Epoch 168/1000\n",
            "172/172 - 2s - loss: 2.1661 - rmse: 1.3532 - mae: 1.1334 - val_loss: 4.7775 - val_rmse: 1.9734 - val_mae: 1.5173\n",
            "Epoch 169/1000\n",
            "172/172 - 2s - loss: 2.1756 - rmse: 1.3566 - mae: 1.1341 - val_loss: 4.9049 - val_rmse: 2.0127 - val_mae: 1.5670\n",
            "Epoch 170/1000\n",
            "172/172 - 2s - loss: 2.2062 - rmse: 1.3694 - mae: 1.1461 - val_loss: 6.2494 - val_rmse: 2.3181 - val_mae: 1.8320\n",
            "Epoch 171/1000\n",
            "172/172 - 2s - loss: 2.2487 - rmse: 1.3843 - mae: 1.1592 - val_loss: 6.1310 - val_rmse: 2.2754 - val_mae: 1.7676\n",
            "Epoch 172/1000\n",
            "172/172 - 2s - loss: 2.0625 - rmse: 1.3215 - mae: 1.1010 - val_loss: 5.2083 - val_rmse: 2.0844 - val_mae: 1.6147\n",
            "Epoch 173/1000\n",
            "172/172 - 2s - loss: 2.2257 - rmse: 1.3681 - mae: 1.1474 - val_loss: 4.7578 - val_rmse: 1.9683 - val_mae: 1.5116\n",
            "Epoch 174/1000\n",
            "172/172 - 2s - loss: 2.1883 - rmse: 1.3577 - mae: 1.1388 - val_loss: 5.3686 - val_rmse: 2.1227 - val_mae: 1.6274\n",
            "Epoch 175/1000\n",
            "172/172 - 2s - loss: 2.0752 - rmse: 1.3308 - mae: 1.1141 - val_loss: 4.6624 - val_rmse: 1.9574 - val_mae: 1.5131\n",
            "Epoch 176/1000\n",
            "Restoring model weights from the end of the best epoch.\n",
            "172/172 - 2s - loss: 2.4740 - rmse: 1.4292 - mae: 1.2075 - val_loss: 5.0624 - val_rmse: 2.0189 - val_mae: 1.5482\n",
            "Epoch 00176: early stopping\n"
          ],
          "name": "stdout"
        }
      ]
    },
    {
      "cell_type": "code",
      "metadata": {
        "id": "fphPm-qS044w",
        "colab_type": "code",
        "colab": {
          "base_uri": "https://localhost:8080/",
          "height": 34
        },
        "outputId": "42f16c0e-8f32-49a5-c267-32143a25e363"
      },
      "source": [
        "print('at epoch: ',hist.history['val_rmse'].index( min(hist.history['val_rmse'])),' Min Val_rmse is ',np.sqrt(min(hist.history['val_rmse'])))"
      ],
      "execution_count": 17,
      "outputs": [
        {
          "output_type": "stream",
          "text": [
            "at epoch:  110  Min Val_rmse is  1.389145052916578\n"
          ],
          "name": "stdout"
        }
      ]
    },
    {
      "cell_type": "code",
      "metadata": {
        "id": "VKYZIW-x1dcC",
        "colab_type": "code",
        "colab": {}
      },
      "source": [
        ""
      ],
      "execution_count": 19,
      "outputs": []
    },
    {
      "cell_type": "code",
      "metadata": {
        "id": "usIDXhYH0V1F",
        "colab_type": "code",
        "colab": {}
      },
      "source": [
        "def get_kf(X,y,n_layers,epochs,n_splits=5):\n",
        "  kf = KFold(n_splits=n_splits, random_state=24, shuffle=True)\n",
        "  train_rmse_list = []\n",
        "  test_rmse_list = []\n",
        "  for train_index, test_index in kf.split(X):\n",
        "    model =  get_model(n_layers)\n",
        "    print('split')\n",
        "    X_train, X_test = X[train_index], X[test_index]\n",
        "    y_train, y_test = y[train_index], y[test_index]\n",
        "    model.fit(X_train,y_train,epochs = epochs,batch_size = 10,verbose=False)\n",
        "    train_pred = model.predict(X_train)\n",
        "    test_pred = model.predict(X_test)\n",
        "    train_rmse_list.append(mean_squared_error(y_train,train_pred))\n",
        "    test_rmse_list.append(mean_squared_error(y_test,test_pred))\n",
        "  return(train_rmse_list,test_rmse_list)"
      ],
      "execution_count": 26,
      "outputs": []
    },
    {
      "cell_type": "code",
      "metadata": {
        "id": "tmCPr_Bz0b5e",
        "colab_type": "code",
        "colab": {
          "base_uri": "https://localhost:8080/",
          "height": 101
        },
        "outputId": "f37fd417-b804-4485-f93d-58287d420894"
      },
      "source": [
        "train_rmse_list,test_rmse_list= get_kf(X=train_img_nonull,y=train_kp_nonull,n_layers=5,epochs=110)"
      ],
      "execution_count": 27,
      "outputs": [
        {
          "output_type": "stream",
          "text": [
            "split\n",
            "split\n",
            "split\n",
            "split\n",
            "split\n"
          ],
          "name": "stdout"
        }
      ]
    },
    {
      "cell_type": "code",
      "metadata": {
        "id": "1eXa8clp11Rd",
        "colab_type": "code",
        "colab": {
          "base_uri": "https://localhost:8080/",
          "height": 84
        },
        "outputId": "b0b0067d-5c51-4104-e600-64248f018b58"
      },
      "source": [
        "print(train_rmse_list)\n",
        "print(test_rmse_list)\n",
        "print('KFold: \\n Train RMSE:',np.mean(test_rmse_list),' Test RMSE:',np.mean(test_rmse_list))"
      ],
      "execution_count": 28,
      "outputs": [
        {
          "output_type": "stream",
          "text": [
            "[1.0885163946114071, 1.0591233200425034, 0.9124236145376037, 1.5569757346235094, 0.9585900448062785]\n",
            "[1.9698161004693873, 2.05606801631077, 1.8440700102180867, 2.415114820374718, 1.68538778692641]\n",
            "KFold: \n",
            " Train RMSE: 1.9940913468598744  Test RMSE: 1.9940913468598744\n"
          ],
          "name": "stdout"
        }
      ]
    },
    {
      "cell_type": "code",
      "metadata": {
        "id": "lrpFotvp0hNX",
        "colab_type": "code",
        "colab": {}
      },
      "source": [
        "pred_train_img_null = step_1model.predict(train_img_null) \n",
        "pd.DataFrame(pred_train_img_null).to_csv(path+'1.99_Step1_pred.csv',index=False)"
      ],
      "execution_count": 30,
      "outputs": []
    },
    {
      "cell_type": "code",
      "metadata": {
        "id": "uIqj8G2W1MA4",
        "colab_type": "code",
        "colab": {}
      },
      "source": [
        "train_kp_null = np.array(pd.DataFrame(train_kp_null).fillna(pd.DataFrame(pred_train_img_null)) )"
      ],
      "execution_count": 31,
      "outputs": []
    },
    {
      "cell_type": "code",
      "metadata": {
        "id": "KWEYfQiO1SBT",
        "colab_type": "code",
        "colab": {
          "base_uri": "https://localhost:8080/",
          "height": 34
        },
        "outputId": "0ab37a26-805b-4e4d-ad9b-263499410e1a"
      },
      "source": [
        "train_img_tot = np.append(train_img_nonull,train_img_null,axis=0)\n",
        "train_kp_tot  = np.append(train_kp_nonull,train_kp_null,axis=0)\n",
        "train_img_tot.shape,train_kp_tot.shape"
      ],
      "execution_count": 32,
      "outputs": [
        {
          "output_type": "execute_result",
          "data": {
            "text/plain": [
              "((7049, 96, 96, 1), (7049, 30))"
            ]
          },
          "metadata": {
            "tags": []
          },
          "execution_count": 32
        }
      ]
    },
    {
      "cell_type": "code",
      "metadata": {
        "id": "3AqCWiBH1XJp",
        "colab_type": "code",
        "colab": {
          "base_uri": "https://localhost:8080/",
          "height": 1000
        },
        "outputId": "9a9dd6f0-937a-44d7-ff35-89d8596774ae"
      },
      "source": [
        "model_final = get_model(5)\n",
        "model_final.summary()"
      ],
      "execution_count": 33,
      "outputs": [
        {
          "output_type": "stream",
          "text": [
            "Model: \"sequential_7\"\n",
            "_________________________________________________________________\n",
            "Layer (type)                 Output Shape              Param #   \n",
            "=================================================================\n",
            "conv2d_84 (Conv2D)           (None, 96, 96, 32)        288       \n",
            "_________________________________________________________________\n",
            "leaky_re_lu_84 (LeakyReLU)   (None, 96, 96, 32)        0         \n",
            "_________________________________________________________________\n",
            "batch_normalization_84 (Batc (None, 96, 96, 32)        128       \n",
            "_________________________________________________________________\n",
            "conv2d_85 (Conv2D)           (None, 96, 96, 32)        9216      \n",
            "_________________________________________________________________\n",
            "leaky_re_lu_85 (LeakyReLU)   (None, 96, 96, 32)        0         \n",
            "_________________________________________________________________\n",
            "batch_normalization_85 (Batc (None, 96, 96, 32)        128       \n",
            "_________________________________________________________________\n",
            "max_pooling2d_35 (MaxPooling (None, 48, 48, 32)        0         \n",
            "_________________________________________________________________\n",
            "conv2d_86 (Conv2D)           (None, 48, 48, 64)        18432     \n",
            "_________________________________________________________________\n",
            "leaky_re_lu_86 (LeakyReLU)   (None, 48, 48, 64)        0         \n",
            "_________________________________________________________________\n",
            "batch_normalization_86 (Batc (None, 48, 48, 64)        256       \n",
            "_________________________________________________________________\n",
            "conv2d_87 (Conv2D)           (None, 48, 48, 64)        36864     \n",
            "_________________________________________________________________\n",
            "leaky_re_lu_87 (LeakyReLU)   (None, 48, 48, 64)        0         \n",
            "_________________________________________________________________\n",
            "batch_normalization_87 (Batc (None, 48, 48, 64)        256       \n",
            "_________________________________________________________________\n",
            "max_pooling2d_36 (MaxPooling (None, 24, 24, 64)        0         \n",
            "_________________________________________________________________\n",
            "conv2d_88 (Conv2D)           (None, 24, 24, 128)       73728     \n",
            "_________________________________________________________________\n",
            "leaky_re_lu_88 (LeakyReLU)   (None, 24, 24, 128)       0         \n",
            "_________________________________________________________________\n",
            "batch_normalization_88 (Batc (None, 24, 24, 128)       512       \n",
            "_________________________________________________________________\n",
            "conv2d_89 (Conv2D)           (None, 24, 24, 128)       147456    \n",
            "_________________________________________________________________\n",
            "leaky_re_lu_89 (LeakyReLU)   (None, 24, 24, 128)       0         \n",
            "_________________________________________________________________\n",
            "batch_normalization_89 (Batc (None, 24, 24, 128)       512       \n",
            "_________________________________________________________________\n",
            "max_pooling2d_37 (MaxPooling (None, 12, 12, 128)       0         \n",
            "_________________________________________________________________\n",
            "conv2d_90 (Conv2D)           (None, 12, 12, 256)       294912    \n",
            "_________________________________________________________________\n",
            "leaky_re_lu_90 (LeakyReLU)   (None, 12, 12, 256)       0         \n",
            "_________________________________________________________________\n",
            "batch_normalization_90 (Batc (None, 12, 12, 256)       1024      \n",
            "_________________________________________________________________\n",
            "conv2d_91 (Conv2D)           (None, 12, 12, 256)       589824    \n",
            "_________________________________________________________________\n",
            "leaky_re_lu_91 (LeakyReLU)   (None, 12, 12, 256)       0         \n",
            "_________________________________________________________________\n",
            "batch_normalization_91 (Batc (None, 12, 12, 256)       1024      \n",
            "_________________________________________________________________\n",
            "max_pooling2d_38 (MaxPooling (None, 6, 6, 256)         0         \n",
            "_________________________________________________________________\n",
            "conv2d_92 (Conv2D)           (None, 6, 6, 512)         1179648   \n",
            "_________________________________________________________________\n",
            "leaky_re_lu_92 (LeakyReLU)   (None, 6, 6, 512)         0         \n",
            "_________________________________________________________________\n",
            "batch_normalization_92 (Batc (None, 6, 6, 512)         2048      \n",
            "_________________________________________________________________\n",
            "conv2d_93 (Conv2D)           (None, 6, 6, 512)         2359296   \n",
            "_________________________________________________________________\n",
            "leaky_re_lu_93 (LeakyReLU)   (None, 6, 6, 512)         0         \n",
            "_________________________________________________________________\n",
            "batch_normalization_93 (Batc (None, 6, 6, 512)         2048      \n",
            "_________________________________________________________________\n",
            "max_pooling2d_39 (MaxPooling (None, 3, 3, 512)         0         \n",
            "_________________________________________________________________\n",
            "conv2d_94 (Conv2D)           (None, 3, 3, 32)          147456    \n",
            "_________________________________________________________________\n",
            "leaky_re_lu_94 (LeakyReLU)   (None, 3, 3, 32)          0         \n",
            "_________________________________________________________________\n",
            "batch_normalization_94 (Batc (None, 3, 3, 32)          128       \n",
            "_________________________________________________________________\n",
            "conv2d_95 (Conv2D)           (None, 3, 3, 16)          4608      \n",
            "_________________________________________________________________\n",
            "leaky_re_lu_95 (LeakyReLU)   (None, 3, 3, 16)          0         \n",
            "_________________________________________________________________\n",
            "batch_normalization_95 (Batc (None, 3, 3, 16)          64        \n",
            "_________________________________________________________________\n",
            "flatten_7 (Flatten)          (None, 144)               0         \n",
            "_________________________________________________________________\n",
            "dense_14 (Dense)             (None, 512)               74240     \n",
            "_________________________________________________________________\n",
            "dropout_7 (Dropout)          (None, 512)               0         \n",
            "_________________________________________________________________\n",
            "dense_15 (Dense)             (None, 30)                15390     \n",
            "=================================================================\n",
            "Total params: 4,959,486\n",
            "Trainable params: 4,955,422\n",
            "Non-trainable params: 4,064\n",
            "_________________________________________________________________\n"
          ],
          "name": "stdout"
        }
      ]
    },
    {
      "cell_type": "code",
      "metadata": {
        "id": "WH8DxTVD1ZtV",
        "colab_type": "code",
        "colab": {
          "base_uri": "https://localhost:8080/",
          "height": 1000
        },
        "outputId": "2f893783-6892-4a10-df75-aeb8bee4fb42"
      },
      "source": [
        "monitor = EarlyStopping(monitor='val_loss', min_delta=1e-3, patience=50, \n",
        "        verbose=1, mode='auto', restore_best_weights=True)\n",
        "hist = model_final.fit(train_img_tot,train_kp_tot,validation_split = 0.2,epochs = 1000,batch_size = 10,callbacks=[monitor],verbose=2)"
      ],
      "execution_count": 34,
      "outputs": [
        {
          "output_type": "stream",
          "text": [
            "Epoch 1/1000\n",
            "564/564 - 9s - loss: 98.8950 - rmse: 5.6525 - mae: 4.7086 - val_loss: 12.1926 - val_rmse: 3.2671 - val_mae: 2.6284\n",
            "Epoch 2/1000\n",
            "564/564 - 8s - loss: 11.1529 - rmse: 3.1038 - mae: 2.4457 - val_loss: 6.9395 - val_rmse: 2.4683 - val_mae: 1.9171\n",
            "Epoch 3/1000\n",
            "564/564 - 8s - loss: 8.3579 - rmse: 2.6699 - mae: 2.1019 - val_loss: 16.2045 - val_rmse: 3.9143 - val_mae: 3.2496\n",
            "Epoch 4/1000\n",
            "564/564 - 8s - loss: 7.1583 - rmse: 2.4570 - mae: 1.9410 - val_loss: 3.9426 - val_rmse: 1.7811 - val_mae: 1.3690\n",
            "Epoch 5/1000\n",
            "564/564 - 8s - loss: 6.4394 - rmse: 2.3212 - mae: 1.8375 - val_loss: 4.0761 - val_rmse: 1.8058 - val_mae: 1.3603\n",
            "Epoch 6/1000\n",
            "564/564 - 8s - loss: 5.8524 - rmse: 2.1991 - mae: 1.7360 - val_loss: 4.0330 - val_rmse: 1.7872 - val_mae: 1.3675\n",
            "Epoch 7/1000\n",
            "564/564 - 8s - loss: 5.4900 - rmse: 2.1207 - mae: 1.6790 - val_loss: 8.1745 - val_rmse: 2.7177 - val_mae: 2.1945\n",
            "Epoch 8/1000\n",
            "564/564 - 8s - loss: 5.4034 - rmse: 2.0996 - mae: 1.6651 - val_loss: 2.9390 - val_rmse: 1.4902 - val_mae: 1.1201\n",
            "Epoch 9/1000\n",
            "564/564 - 8s - loss: 5.1982 - rmse: 2.0595 - mae: 1.6358 - val_loss: 3.9215 - val_rmse: 1.8111 - val_mae: 1.4262\n",
            "Epoch 10/1000\n",
            "564/564 - 8s - loss: 5.0376 - rmse: 2.0279 - mae: 1.6075 - val_loss: 2.9522 - val_rmse: 1.5109 - val_mae: 1.1436\n",
            "Epoch 11/1000\n",
            "564/564 - 8s - loss: 4.9547 - rmse: 2.0103 - mae: 1.5999 - val_loss: 3.3692 - val_rmse: 1.6385 - val_mae: 1.2277\n",
            "Epoch 12/1000\n",
            "564/564 - 8s - loss: 4.8072 - rmse: 1.9836 - mae: 1.5821 - val_loss: 2.9677 - val_rmse: 1.5136 - val_mae: 1.1371\n",
            "Epoch 13/1000\n",
            "564/564 - 8s - loss: 4.8008 - rmse: 1.9782 - mae: 1.5790 - val_loss: 3.1685 - val_rmse: 1.5755 - val_mae: 1.1465\n",
            "Epoch 14/1000\n",
            "564/564 - 8s - loss: 4.6089 - rmse: 1.9394 - mae: 1.5513 - val_loss: 3.3113 - val_rmse: 1.6203 - val_mae: 1.2521\n",
            "Epoch 15/1000\n",
            "564/564 - 8s - loss: 4.3604 - rmse: 1.8946 - mae: 1.5149 - val_loss: 3.4852 - val_rmse: 1.6393 - val_mae: 1.2382\n",
            "Epoch 16/1000\n",
            "564/564 - 8s - loss: 4.4466 - rmse: 1.9151 - mae: 1.5402 - val_loss: 3.0599 - val_rmse: 1.5432 - val_mae: 1.1901\n",
            "Epoch 17/1000\n",
            "564/564 - 8s - loss: 4.2192 - rmse: 1.8658 - mae: 1.4960 - val_loss: 3.7046 - val_rmse: 1.7358 - val_mae: 1.3611\n",
            "Epoch 18/1000\n",
            "564/564 - 8s - loss: 3.9929 - rmse: 1.8204 - mae: 1.4595 - val_loss: 2.3418 - val_rmse: 1.3044 - val_mae: 0.9694\n",
            "Epoch 19/1000\n",
            "564/564 - 8s - loss: 4.0675 - rmse: 1.8348 - mae: 1.4763 - val_loss: 2.4363 - val_rmse: 1.3567 - val_mae: 1.0314\n",
            "Epoch 20/1000\n",
            "564/564 - 8s - loss: 3.8703 - rmse: 1.7966 - mae: 1.4463 - val_loss: 2.5117 - val_rmse: 1.3790 - val_mae: 1.0331\n",
            "Epoch 21/1000\n",
            "564/564 - 8s - loss: 3.9587 - rmse: 1.8097 - mae: 1.4628 - val_loss: 2.2967 - val_rmse: 1.3071 - val_mae: 0.9849\n",
            "Epoch 22/1000\n",
            "564/564 - 8s - loss: 3.6843 - rmse: 1.7479 - mae: 1.4069 - val_loss: 2.3635 - val_rmse: 1.3285 - val_mae: 1.0090\n",
            "Epoch 23/1000\n",
            "564/564 - 8s - loss: 3.7257 - rmse: 1.7718 - mae: 1.4293 - val_loss: 2.5569 - val_rmse: 1.4015 - val_mae: 1.0387\n",
            "Epoch 24/1000\n",
            "564/564 - 8s - loss: 3.5837 - rmse: 1.7308 - mae: 1.3949 - val_loss: 2.4300 - val_rmse: 1.3457 - val_mae: 0.9887\n",
            "Epoch 25/1000\n",
            "564/564 - 8s - loss: 3.4861 - rmse: 1.7153 - mae: 1.3903 - val_loss: 3.9115 - val_rmse: 1.8043 - val_mae: 1.3845\n",
            "Epoch 26/1000\n",
            "564/564 - 8s - loss: 3.4839 - rmse: 1.7096 - mae: 1.3843 - val_loss: 2.5916 - val_rmse: 1.4115 - val_mae: 1.0616\n",
            "Epoch 27/1000\n",
            "564/564 - 8s - loss: 3.2768 - rmse: 1.6619 - mae: 1.3433 - val_loss: 2.4456 - val_rmse: 1.3765 - val_mae: 1.0694\n",
            "Epoch 28/1000\n",
            "564/564 - 8s - loss: 3.3227 - rmse: 1.6713 - mae: 1.3542 - val_loss: 7.0811 - val_rmse: 2.5443 - val_mae: 2.1920\n",
            "Epoch 29/1000\n",
            "564/564 - 8s - loss: 3.3375 - rmse: 1.6731 - mae: 1.3565 - val_loss: 2.5379 - val_rmse: 1.3861 - val_mae: 1.0635\n",
            "Epoch 30/1000\n",
            "564/564 - 8s - loss: 3.3657 - rmse: 1.6798 - mae: 1.3674 - val_loss: 2.2487 - val_rmse: 1.2849 - val_mae: 0.9395\n",
            "Epoch 31/1000\n",
            "564/564 - 8s - loss: 3.2507 - rmse: 1.6521 - mae: 1.3401 - val_loss: 3.1080 - val_rmse: 1.5482 - val_mae: 1.1911\n",
            "Epoch 32/1000\n",
            "564/564 - 8s - loss: 3.3435 - rmse: 1.6707 - mae: 1.3622 - val_loss: 3.8705 - val_rmse: 1.8008 - val_mae: 1.3443\n",
            "Epoch 33/1000\n",
            "564/564 - 8s - loss: 3.1594 - rmse: 1.6308 - mae: 1.3296 - val_loss: 2.7333 - val_rmse: 1.4626 - val_mae: 1.1422\n",
            "Epoch 34/1000\n",
            "564/564 - 8s - loss: 3.1063 - rmse: 1.6122 - mae: 1.3116 - val_loss: 2.1510 - val_rmse: 1.2538 - val_mae: 0.9393\n",
            "Epoch 35/1000\n",
            "564/564 - 8s - loss: 2.9934 - rmse: 1.5901 - mae: 1.2917 - val_loss: 2.9464 - val_rmse: 1.5341 - val_mae: 1.1590\n",
            "Epoch 36/1000\n",
            "564/564 - 8s - loss: 3.1560 - rmse: 1.6308 - mae: 1.3311 - val_loss: 2.4116 - val_rmse: 1.3350 - val_mae: 0.9977\n",
            "Epoch 37/1000\n",
            "564/564 - 8s - loss: 2.9045 - rmse: 1.5675 - mae: 1.2742 - val_loss: 3.0940 - val_rmse: 1.5879 - val_mae: 1.2253\n",
            "Epoch 38/1000\n",
            "564/564 - 8s - loss: 2.9937 - rmse: 1.5915 - mae: 1.2987 - val_loss: 3.1654 - val_rmse: 1.6033 - val_mae: 1.1978\n",
            "Epoch 39/1000\n",
            "564/564 - 8s - loss: 3.0321 - rmse: 1.6000 - mae: 1.3083 - val_loss: 2.3258 - val_rmse: 1.3265 - val_mae: 1.0106\n",
            "Epoch 40/1000\n",
            "564/564 - 8s - loss: 2.8871 - rmse: 1.5596 - mae: 1.2713 - val_loss: 3.4831 - val_rmse: 1.7150 - val_mae: 1.3582\n",
            "Epoch 41/1000\n",
            "564/564 - 8s - loss: 2.8095 - rmse: 1.5442 - mae: 1.2603 - val_loss: 2.1377 - val_rmse: 1.2358 - val_mae: 0.8887\n",
            "Epoch 42/1000\n",
            "564/564 - 8s - loss: 2.9212 - rmse: 1.5637 - mae: 1.2783 - val_loss: 2.7257 - val_rmse: 1.4636 - val_mae: 1.0651\n",
            "Epoch 43/1000\n",
            "564/564 - 8s - loss: 2.8359 - rmse: 1.5465 - mae: 1.2624 - val_loss: 2.5089 - val_rmse: 1.3837 - val_mae: 1.0053\n",
            "Epoch 44/1000\n",
            "564/564 - 8s - loss: 2.7374 - rmse: 1.5233 - mae: 1.2425 - val_loss: 2.2319 - val_rmse: 1.2713 - val_mae: 0.9101\n",
            "Epoch 45/1000\n",
            "564/564 - 8s - loss: 2.7260 - rmse: 1.5147 - mae: 1.2366 - val_loss: 2.0245 - val_rmse: 1.1914 - val_mae: 0.8540\n",
            "Epoch 46/1000\n",
            "564/564 - 8s - loss: 2.7955 - rmse: 1.5337 - mae: 1.2542 - val_loss: 2.2013 - val_rmse: 1.2679 - val_mae: 0.9371\n",
            "Epoch 47/1000\n",
            "564/564 - 8s - loss: 2.7806 - rmse: 1.5291 - mae: 1.2532 - val_loss: 3.0971 - val_rmse: 1.5890 - val_mae: 1.2325\n",
            "Epoch 48/1000\n",
            "564/564 - 8s - loss: 2.6905 - rmse: 1.5043 - mae: 1.2312 - val_loss: 3.2468 - val_rmse: 1.6258 - val_mae: 1.2584\n",
            "Epoch 49/1000\n",
            "564/564 - 8s - loss: 2.8478 - rmse: 1.5437 - mae: 1.2677 - val_loss: 2.1146 - val_rmse: 1.2399 - val_mae: 0.9142\n",
            "Epoch 50/1000\n",
            "564/564 - 8s - loss: 2.7436 - rmse: 1.5170 - mae: 1.2432 - val_loss: 2.0096 - val_rmse: 1.1922 - val_mae: 0.8669\n",
            "Epoch 51/1000\n",
            "564/564 - 8s - loss: 2.7276 - rmse: 1.5131 - mae: 1.2409 - val_loss: 3.1869 - val_rmse: 1.6242 - val_mae: 1.2545\n",
            "Epoch 52/1000\n",
            "564/564 - 8s - loss: 2.6457 - rmse: 1.4908 - mae: 1.2211 - val_loss: 2.1578 - val_rmse: 1.2549 - val_mae: 0.9387\n",
            "Epoch 53/1000\n",
            "564/564 - 8s - loss: 2.8145 - rmse: 1.5317 - mae: 1.2624 - val_loss: 2.2079 - val_rmse: 1.2805 - val_mae: 0.9502\n",
            "Epoch 54/1000\n",
            "564/564 - 8s - loss: 2.5914 - rmse: 1.4771 - mae: 1.2102 - val_loss: 2.8516 - val_rmse: 1.5214 - val_mae: 1.1365\n",
            "Epoch 55/1000\n",
            "564/564 - 8s - loss: 2.6243 - rmse: 1.4857 - mae: 1.2190 - val_loss: 2.5532 - val_rmse: 1.4077 - val_mae: 1.0607\n",
            "Epoch 56/1000\n",
            "564/564 - 8s - loss: 2.6119 - rmse: 1.4809 - mae: 1.2155 - val_loss: 2.7916 - val_rmse: 1.4813 - val_mae: 1.0833\n",
            "Epoch 57/1000\n",
            "564/564 - 8s - loss: 2.6307 - rmse: 1.4872 - mae: 1.2231 - val_loss: 2.0798 - val_rmse: 1.2223 - val_mae: 0.8992\n",
            "Epoch 58/1000\n",
            "564/564 - 8s - loss: 2.6146 - rmse: 1.4816 - mae: 1.2186 - val_loss: 2.2216 - val_rmse: 1.2874 - val_mae: 0.9629\n",
            "Epoch 59/1000\n",
            "564/564 - 8s - loss: 2.6009 - rmse: 1.4763 - mae: 1.2137 - val_loss: 3.3941 - val_rmse: 1.6688 - val_mae: 1.2507\n",
            "Epoch 60/1000\n",
            "564/564 - 8s - loss: 2.5508 - rmse: 1.4623 - mae: 1.2013 - val_loss: 1.8403 - val_rmse: 1.1237 - val_mae: 0.8079\n",
            "Epoch 61/1000\n",
            "564/564 - 8s - loss: 2.6122 - rmse: 1.4799 - mae: 1.2181 - val_loss: 2.2150 - val_rmse: 1.2648 - val_mae: 0.9193\n",
            "Epoch 62/1000\n",
            "564/564 - 8s - loss: 2.5904 - rmse: 1.4703 - mae: 1.2096 - val_loss: 3.9716 - val_rmse: 1.8534 - val_mae: 1.4757\n",
            "Epoch 63/1000\n",
            "564/564 - 8s - loss: 2.4983 - rmse: 1.4494 - mae: 1.1915 - val_loss: 2.4832 - val_rmse: 1.3664 - val_mae: 0.9946\n",
            "Epoch 64/1000\n",
            "564/564 - 8s - loss: 2.5488 - rmse: 1.4560 - mae: 1.1981 - val_loss: 2.1583 - val_rmse: 1.2467 - val_mae: 0.8824\n",
            "Epoch 65/1000\n",
            "564/564 - 8s - loss: 2.5297 - rmse: 1.4495 - mae: 1.1925 - val_loss: 2.2372 - val_rmse: 1.2942 - val_mae: 0.9231\n",
            "Epoch 66/1000\n",
            "564/564 - 8s - loss: 2.4774 - rmse: 1.4389 - mae: 1.1849 - val_loss: 2.3748 - val_rmse: 1.3349 - val_mae: 0.9800\n",
            "Epoch 67/1000\n",
            "564/564 - 8s - loss: 2.6027 - rmse: 1.4742 - mae: 1.2189 - val_loss: 3.5231 - val_rmse: 1.6962 - val_mae: 1.3246\n",
            "Epoch 68/1000\n",
            "564/564 - 8s - loss: 2.5031 - rmse: 1.4438 - mae: 1.1920 - val_loss: 2.5764 - val_rmse: 1.3917 - val_mae: 1.0461\n",
            "Epoch 69/1000\n",
            "564/564 - 8s - loss: 2.4952 - rmse: 1.4430 - mae: 1.1894 - val_loss: 2.5402 - val_rmse: 1.3875 - val_mae: 1.0223\n",
            "Epoch 70/1000\n",
            "564/564 - 8s - loss: 2.4815 - rmse: 1.4390 - mae: 1.1877 - val_loss: 3.2527 - val_rmse: 1.6369 - val_mae: 1.2270\n",
            "Epoch 71/1000\n",
            "564/564 - 8s - loss: 2.4867 - rmse: 1.4432 - mae: 1.1930 - val_loss: 3.3684 - val_rmse: 1.6744 - val_mae: 1.2899\n",
            "Epoch 72/1000\n",
            "564/564 - 8s - loss: 2.3451 - rmse: 1.4011 - mae: 1.1534 - val_loss: 1.9060 - val_rmse: 1.1536 - val_mae: 0.8487\n",
            "Epoch 73/1000\n",
            "564/564 - 8s - loss: 2.3904 - rmse: 1.4153 - mae: 1.1654 - val_loss: 2.3923 - val_rmse: 1.3516 - val_mae: 0.9896\n",
            "Epoch 74/1000\n",
            "564/564 - 8s - loss: 2.4172 - rmse: 1.4196 - mae: 1.1732 - val_loss: 2.1329 - val_rmse: 1.2488 - val_mae: 0.9070\n",
            "Epoch 75/1000\n",
            "564/564 - 8s - loss: 2.4704 - rmse: 1.4348 - mae: 1.1851 - val_loss: 2.4701 - val_rmse: 1.3722 - val_mae: 1.0027\n",
            "Epoch 76/1000\n",
            "564/564 - 8s - loss: 2.4775 - rmse: 1.4353 - mae: 1.1877 - val_loss: 3.1000 - val_rmse: 1.6060 - val_mae: 1.2884\n",
            "Epoch 77/1000\n",
            "564/564 - 8s - loss: 2.4205 - rmse: 1.4133 - mae: 1.1653 - val_loss: 2.4555 - val_rmse: 1.3790 - val_mae: 1.0375\n",
            "Epoch 78/1000\n",
            "564/564 - 8s - loss: 2.5137 - rmse: 1.4444 - mae: 1.1968 - val_loss: 2.0026 - val_rmse: 1.1740 - val_mae: 0.8285\n",
            "Epoch 79/1000\n",
            "564/564 - 8s - loss: 2.3973 - rmse: 1.4048 - mae: 1.1581 - val_loss: 2.0379 - val_rmse: 1.1956 - val_mae: 0.8507\n",
            "Epoch 80/1000\n",
            "564/564 - 8s - loss: 2.3955 - rmse: 1.4103 - mae: 1.1650 - val_loss: 2.4217 - val_rmse: 1.3557 - val_mae: 0.9781\n",
            "Epoch 81/1000\n",
            "564/564 - 8s - loss: 2.3626 - rmse: 1.4013 - mae: 1.1575 - val_loss: 2.2637 - val_rmse: 1.2776 - val_mae: 0.9240\n",
            "Epoch 82/1000\n",
            "564/564 - 8s - loss: 2.4477 - rmse: 1.4210 - mae: 1.1769 - val_loss: 2.0132 - val_rmse: 1.1915 - val_mae: 0.8558\n",
            "Epoch 83/1000\n",
            "564/564 - 8s - loss: 2.3650 - rmse: 1.3972 - mae: 1.1542 - val_loss: 3.8497 - val_rmse: 1.8040 - val_mae: 1.4448\n",
            "Epoch 84/1000\n",
            "564/564 - 8s - loss: 2.3033 - rmse: 1.3821 - mae: 1.1401 - val_loss: 1.9069 - val_rmse: 1.1522 - val_mae: 0.8331\n",
            "Epoch 85/1000\n",
            "564/564 - 8s - loss: 2.4305 - rmse: 1.4148 - mae: 1.1720 - val_loss: 2.6221 - val_rmse: 1.4255 - val_mae: 1.0654\n",
            "Epoch 86/1000\n",
            "564/564 - 8s - loss: 2.3310 - rmse: 1.3882 - mae: 1.1470 - val_loss: 1.9352 - val_rmse: 1.1624 - val_mae: 0.8352\n",
            "Epoch 87/1000\n",
            "564/564 - 8s - loss: 2.3043 - rmse: 1.3800 - mae: 1.1404 - val_loss: 1.9089 - val_rmse: 1.1540 - val_mae: 0.8288\n",
            "Epoch 88/1000\n",
            "564/564 - 8s - loss: 2.3496 - rmse: 1.4025 - mae: 1.1633 - val_loss: 1.8726 - val_rmse: 1.1395 - val_mae: 0.8246\n",
            "Epoch 89/1000\n",
            "564/564 - 8s - loss: 2.2641 - rmse: 1.3685 - mae: 1.1296 - val_loss: 2.5053 - val_rmse: 1.3823 - val_mae: 1.0437\n",
            "Epoch 90/1000\n",
            "564/564 - 8s - loss: 2.3241 - rmse: 1.3891 - mae: 1.1496 - val_loss: 2.3748 - val_rmse: 1.3294 - val_mae: 0.9348\n",
            "Epoch 91/1000\n",
            "564/564 - 8s - loss: 2.2373 - rmse: 1.3602 - mae: 1.1232 - val_loss: 2.4048 - val_rmse: 1.3555 - val_mae: 0.9899\n",
            "Epoch 92/1000\n",
            "564/564 - 8s - loss: 2.2802 - rmse: 1.3752 - mae: 1.1370 - val_loss: 2.9985 - val_rmse: 1.5352 - val_mae: 1.1374\n",
            "Epoch 93/1000\n",
            "564/564 - 8s - loss: 2.3275 - rmse: 1.3920 - mae: 1.1540 - val_loss: 2.1470 - val_rmse: 1.2424 - val_mae: 0.8931\n",
            "Epoch 94/1000\n",
            "564/564 - 8s - loss: 2.3224 - rmse: 1.3862 - mae: 1.1502 - val_loss: 2.7324 - val_rmse: 1.4677 - val_mae: 1.1215\n",
            "Epoch 95/1000\n",
            "564/564 - 8s - loss: 2.2483 - rmse: 1.3649 - mae: 1.1284 - val_loss: 2.2022 - val_rmse: 1.2681 - val_mae: 0.9084\n",
            "Epoch 96/1000\n",
            "564/564 - 8s - loss: 2.2334 - rmse: 1.3624 - mae: 1.1285 - val_loss: 2.4922 - val_rmse: 1.3860 - val_mae: 0.9933\n",
            "Epoch 97/1000\n",
            "564/564 - 8s - loss: 2.2600 - rmse: 1.3707 - mae: 1.1360 - val_loss: 2.0438 - val_rmse: 1.1946 - val_mae: 0.8656\n",
            "Epoch 98/1000\n",
            "564/564 - 8s - loss: 2.3192 - rmse: 1.3845 - mae: 1.1485 - val_loss: 2.0746 - val_rmse: 1.2212 - val_mae: 0.8628\n",
            "Epoch 99/1000\n",
            "564/564 - 8s - loss: 2.2859 - rmse: 1.3714 - mae: 1.1359 - val_loss: 2.2878 - val_rmse: 1.3074 - val_mae: 0.9561\n",
            "Epoch 100/1000\n",
            "564/564 - 8s - loss: 2.1606 - rmse: 1.3416 - mae: 1.1084 - val_loss: 2.5415 - val_rmse: 1.4107 - val_mae: 1.0498\n",
            "Epoch 101/1000\n",
            "564/564 - 8s - loss: 2.1881 - rmse: 1.3476 - mae: 1.1164 - val_loss: 3.2201 - val_rmse: 1.6389 - val_mae: 1.2662\n",
            "Epoch 102/1000\n",
            "564/564 - 8s - loss: 2.2280 - rmse: 1.3608 - mae: 1.1272 - val_loss: 1.8690 - val_rmse: 1.1336 - val_mae: 0.8117\n",
            "Epoch 103/1000\n",
            "564/564 - 8s - loss: 2.2355 - rmse: 1.3598 - mae: 1.1268 - val_loss: 1.8489 - val_rmse: 1.1290 - val_mae: 0.8097\n",
            "Epoch 104/1000\n",
            "564/564 - 8s - loss: 2.2008 - rmse: 1.3476 - mae: 1.1168 - val_loss: 2.1104 - val_rmse: 1.2355 - val_mae: 0.9196\n",
            "Epoch 105/1000\n",
            "564/564 - 8s - loss: 2.2304 - rmse: 1.3572 - mae: 1.1271 - val_loss: 2.2227 - val_rmse: 1.2759 - val_mae: 0.9172\n",
            "Epoch 106/1000\n",
            "564/564 - 8s - loss: 2.2479 - rmse: 1.3621 - mae: 1.1320 - val_loss: 2.0665 - val_rmse: 1.2091 - val_mae: 0.8570\n",
            "Epoch 107/1000\n",
            "564/564 - 8s - loss: 2.1628 - rmse: 1.3387 - mae: 1.1088 - val_loss: 2.0245 - val_rmse: 1.1971 - val_mae: 0.8483\n",
            "Epoch 108/1000\n",
            "564/564 - 8s - loss: 2.2114 - rmse: 1.3505 - mae: 1.1200 - val_loss: 1.9871 - val_rmse: 1.1659 - val_mae: 0.8366\n",
            "Epoch 109/1000\n",
            "564/564 - 8s - loss: 2.1806 - rmse: 1.3424 - mae: 1.1124 - val_loss: 1.9239 - val_rmse: 1.1607 - val_mae: 0.8375\n",
            "Epoch 110/1000\n",
            "Restoring model weights from the end of the best epoch.\n",
            "564/564 - 8s - loss: 2.2169 - rmse: 1.3504 - mae: 1.1222 - val_loss: 1.8424 - val_rmse: 1.1226 - val_mae: 0.7952\n",
            "Epoch 00110: early stopping\n"
          ],
          "name": "stdout"
        }
      ]
    },
    {
      "cell_type": "code",
      "metadata": {
        "id": "ENDHvubu1fJw",
        "colab_type": "code",
        "colab": {
          "base_uri": "https://localhost:8080/",
          "height": 34
        },
        "outputId": "7798e3ee-309e-41d4-ead9-415df7732091"
      },
      "source": [
        "print('at epoch: ',hist.history['val_rmse'].index( min(hist.history['val_rmse'])),' Min Val_rmse is ',min(hist.history['val_rmse'])\n",
        ",'& Dev RMSE: ',hist.history['rmse'][hist.history['val_rmse'].index( min(hist.history['val_rmse']))] )"
      ],
      "execution_count": 35,
      "outputs": [
        {
          "output_type": "stream",
          "text": [
            "at epoch:  109  Min Val_rmse is  1.1226298809051514 & Dev RMSE:  1.350439429283142\n"
          ],
          "name": "stdout"
        }
      ]
    },
    {
      "cell_type": "code",
      "metadata": {
        "id": "09awi5zk_PMw",
        "colab_type": "code",
        "colab": {
          "base_uri": "https://localhost:8080/",
          "height": 101
        },
        "outputId": "428f07f9-ddf1-4a2b-be75-9d9c946ab29e"
      },
      "source": [
        "train_rmse_list,test_rmse_list= get_kf(X=train_img_tot,y=train_kp_tot,n_layers=5,epochs=109)"
      ],
      "execution_count": 36,
      "outputs": [
        {
          "output_type": "stream",
          "text": [
            "split\n",
            "split\n",
            "split\n",
            "split\n",
            "split\n"
          ],
          "name": "stdout"
        }
      ]
    },
    {
      "cell_type": "code",
      "metadata": {
        "id": "2ZckTx4aN_Tg",
        "colab_type": "code",
        "colab": {}
      },
      "source": [
        "print(train_rmse_list)\n",
        "print(test_rmse_list)\n",
        "print('KFold: \\n Train RMSE:',np.mean(test_rmse_list),' Test RMSE:',np.mean(test_rmse_list))"
      ],
      "execution_count": 1,
      "outputs": []
    },
    {
      "cell_type": "code",
      "metadata": {
        "id": "dwsoAQ6r1ikB",
        "colab_type": "code",
        "colab": {}
      },
      "source": [
        "final_pred = model_final.predict(test_img)"
      ],
      "execution_count": 1,
      "outputs": []
    },
    {
      "cell_type": "code",
      "metadata": {
        "id": "VxDCKVwX1klW",
        "colab_type": "code",
        "colab": {}
      },
      "source": [
        "pd.DataFrame(final_pred).to_csv(path+'sri_copy_FKPD_sub.csv',index=False)"
      ],
      "execution_count": null,
      "outputs": []
    },
    {
      "cell_type": "code",
      "metadata": {
        "id": "li_hRvFa10Wd",
        "colab_type": "code",
        "colab": {
          "base_uri": "https://localhost:8080/",
          "height": 545
        },
        "outputId": "c3034d3e-3385-4fe1-eb2a-bedaf79c5e83"
      },
      "source": [
        "fig, axis = plt.subplots()\n",
        "plot_sample(test_img[24],final_pred[24],axis,'Sample')\n",
        "fig, axis = plt.subplots()\n",
        "plot_sample(test_img[23],final_pred[23],axis,'Sample')"
      ],
      "execution_count": null,
      "outputs": [
        {
          "output_type": "display_data",
          "data": {
            "image/png": "[encoded data removed]",
            "text/plain": [
              "<Figure size 432x288 with 1 Axes>"
            ]
          },
          "metadata": {
            "tags": [],
            "needs_background": "light"
          }
        },
        {
          "output_type": "display_data",
          "data": {
            "image/png": "[encoded data removed]",
            "text/plain": [
              "<Figure size 432x288 with 1 Axes>"
            ]
          },
          "metadata": {
            "tags": [],
            "needs_background": "light"
          }
        }
      ]
    },
    {
      "cell_type": "code",
      "metadata": {
        "id": "dsAl-_JD12rK",
        "colab_type": "code",
        "colab": {}
      },
      "source": [
        "idlookup_data =  pd.read_csv(path+'IdLookupTable.csv')\n",
        "feature_names = list(idlookup_data['FeatureName'])\n",
        "row_ids = list(idlookup_data['RowId'])\n",
        "image_ids = list(idlookup_data['ImageId']-1)\n",
        "feature_list = []\n",
        "for feature in feature_names:\n",
        "    feature_list.append(feature_names.index(feature))\n",
        "\n",
        "predictions = []\n",
        "for x,y in zip(image_ids, feature_list):\n",
        "    predictions.append(final_pred[x][y])"
      ],
      "execution_count": null,
      "outputs": []
    },
    {
      "cell_type": "code",
      "metadata": {
        "id": "1w1rYf-z18ps",
        "colab_type": "code",
        "colab": {}
      },
      "source": [
        "row_ids = pd.Series(row_ids, name = 'RowId')\n",
        "locations = pd.Series(predictions, name = 'Location')\n",
        "locations = locations.clip(0.0,96.0)\n",
        "submission_result = pd.concat([row_ids,locations],axis = 1)\n",
        "submission_result.to_csv(path+'1.99_sub.csv',index=False)"
      ],
      "execution_count": null,
      "outputs": []
    },
    {
      "cell_type": "code",
      "metadata": {
        "id": "O4sCxVLM-yih",
        "colab_type": "code",
        "colab": {}
      },
      "source": [
        ""
      ],
      "execution_count": null,
      "outputs": []
    }
  ]
}